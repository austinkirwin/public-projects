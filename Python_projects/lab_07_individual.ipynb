{
 "cells": [
  {
   "cell_type": "markdown",
   "metadata": {},
   "source": [
    "# STAT 207 Lab Assignment 7 - Individual Part - [20 total points]\n",
    "\n",
    "## <u>Case Study</u>: Predicting IMDB Sci-Fi Movie Ratings based on Content *for New Datasets*\n",
    "\n",
    "In this individual assignments we will use the data in the `imdb.csv` to pursue our research goals.\n",
    "\n",
    "Each row in the `imdb.csv` file contains the following information about **POPULAR** `films` as well as `series` listed on IMDB.\n",
    "\n",
    "* `Name`\n",
    "* `Date`: the date film/series was released.\n",
    "* `Rate`: the rating of the film/series\n",
    "* `Votes`: how many votes this film/series received on IMDB\n",
    "* `Genre`: a **list** of genres that the film/series is considered to be. Most films/series have multiple genres listed (ex: 'Action, Adventure, Thriller')\n",
    "* `Duration`: the duration of the film/series\n",
    "* `Type`: whether the row is a `Film` or `Series`\n",
    "* `Certificate`: the content rating of the film (ex: 'G', 'PG', 'PG-13', 'R')\n",
    "* `Nudity`: the amount of nudity in the film/series\n",
    "* `Violence`: the amount of violence in the film/series\n",
    "* `Profanity`: the amount of profanity in the film/series\n",
    "* `Alcohol`: the amount of alcohol in the film/series\n",
    "* `Frightening`: the amount of frightening content in the film/series\n",
    "\n",
    "\n",
    "\n",
    "\n",
    "### Points\n",
    "\n",
    "<p>&nbsp;</p>\n",
    "<table style=\"border: none;border-collapse: collapse;width:102pt;\">\n",
    "    <tbody>\n",
    "        <tr>\n",
    "            <td style=\"color:black;font-size:15px;font-weight:700;font-style:normal;text-decoration:none;font-family:Calibri, sans-serif;text-align:general;vertical-align:bottom;border:.5pt solid windowtext;height:14.25pt;width:51pt;\">Problem</td>\n",
    "            <td style=\"color:black;font-size:15px;font-weight:700;font-style:normal;text-decoration:none;font-family:Calibri, sans-serif;text-align:general;vertical-align:bottom;border:.5pt solid windowtext;border-left:none;width:51pt;\">Points</td>\n",
    "        </tr>\n",
    "        <tr>\n",
    "            <td style=\"color:black;font-size:15px;font-weight:400;font-style:normal;text-decoration:none;font-family:Calibri, sans-serif;text-align:right;vertical-align:bottom;border:.5pt solid windowtext;height:14.25pt;border-top:none;\">1.1</td>\n",
    "            <td style=\"color:black;font-size:15px;font-weight:400;font-style:normal;text-decoration:none;font-family:Calibri, sans-serif;text-align:right;vertical-align:bottom;border:.5pt solid windowtext;border-top:none;border-left:none;\">0.5</td>\n",
    "        </tr>\n",
    "        <tr>\n",
    "            <td style=\"color:black;font-size:15px;font-weight:400;font-style:normal;text-decoration:none;font-family:Calibri, sans-serif;text-align:right;vertical-align:bottom;border:.5pt solid windowtext;height:14.25pt;border-top:none;\">1.2</td>\n",
    "            <td style=\"color:black;font-size:15px;font-weight:400;font-style:normal;text-decoration:none;font-family:Calibri, sans-serif;text-align:right;vertical-align:bottom;border:.5pt solid windowtext;border-top:none;border-left:none;\">0.5</td>\n",
    "        </tr>\n",
    "        <tr>\n",
    "            <td style=\"color:black;font-size:15px;font-weight:400;font-style:normal;text-decoration:none;font-family:Calibri, sans-serif;text-align:right;vertical-align:bottom;border:.5pt solid windowtext;height:14.25pt;border-top:none;\">1.3</td>\n",
    "            <td style=\"color:black;font-size:15px;font-weight:400;font-style:normal;text-decoration:none;font-family:Calibri, sans-serif;text-align:right;vertical-align:bottom;border:.5pt solid windowtext;border-top:none;border-left:none;\">1</td>\n",
    "        </tr>\n",
    "        <tr>\n",
    "            <td style=\"color:black;font-size:15px;font-weight:400;font-style:normal;text-decoration:none;font-family:Calibri, sans-serif;text-align:right;vertical-align:bottom;border:.5pt solid windowtext;height:14.25pt;border-top:none;\">1.4</td>\n",
    "            <td style=\"color:black;font-size:15px;font-weight:400;font-style:normal;text-decoration:none;font-family:Calibri, sans-serif;text-align:right;vertical-align:bottom;border:.5pt solid windowtext;border-top:none;border-left:none;\">0.5</td>\n",
    "        </tr>\n",
    "        <tr>\n",
    "            <td style=\"color:black;font-size:15px;font-weight:400;font-style:normal;text-decoration:none;font-family:Calibri, sans-serif;text-align:right;vertical-align:bottom;border:.5pt solid windowtext;height:14.25pt;border-top:none;\">2.1</td>\n",
    "            <td style=\"color:black;font-size:15px;font-weight:400;font-style:normal;text-decoration:none;font-family:Calibri, sans-serif;text-align:right;vertical-align:bottom;border:.5pt solid windowtext;border-top:none;border-left:none;\">1</td>\n",
    "        </tr>\n",
    "        <tr>\n",
    "            <td style=\"color:black;font-size:15px;font-weight:400;font-style:normal;text-decoration:none;font-family:Calibri, sans-serif;text-align:right;vertical-align:bottom;border:.5pt solid windowtext;height:14.25pt;border-top:none;\">3.1</td>\n",
    "            <td style=\"color:black;font-size:15px;font-weight:400;font-style:normal;text-decoration:none;font-family:Calibri, sans-serif;text-align:right;vertical-align:bottom;border:.5pt solid windowtext;border-top:none;border-left:none;\">1</td>\n",
    "        </tr>\n",
    "        <tr>\n",
    "            <td style=\"color:black;font-size:15px;font-weight:400;font-style:normal;text-decoration:none;font-family:Calibri, sans-serif;text-align:right;vertical-align:bottom;border:.5pt solid windowtext;height:14.25pt;border-top:none;\">3.2</td>\n",
    "            <td style=\"color:black;font-size:15px;font-weight:400;font-style:normal;text-decoration:none;font-family:Calibri, sans-serif;text-align:right;vertical-align:bottom;border:.5pt solid windowtext;border-top:none;border-left:none;\">1</td>\n",
    "        </tr>\n",
    "        <tr>\n",
    "            <td style=\"color:black;font-size:15px;font-weight:400;font-style:normal;text-decoration:none;font-family:Calibri, sans-serif;text-align:right;vertical-align:bottom;border:.5pt solid windowtext;height:14.25pt;border-top:none;\">3.3</td>\n",
    "            <td style=\"color:black;font-size:15px;font-weight:400;font-style:normal;text-decoration:none;font-family:Calibri, sans-serif;text-align:right;vertical-align:bottom;border:.5pt solid windowtext;border-top:none;border-left:none;\">0.75</td>\n",
    "        </tr>\n",
    "        <tr>\n",
    "            <td style=\"color:black;font-size:15px;font-weight:400;font-style:normal;text-decoration:none;font-family:Calibri, sans-serif;text-align:right;vertical-align:bottom;border:.5pt solid windowtext;height:14.25pt;border-top:none;\">3.4</td>\n",
    "            <td style=\"color:black;font-size:15px;font-weight:400;font-style:normal;text-decoration:none;font-family:Calibri, sans-serif;text-align:right;vertical-align:bottom;border:.5pt solid windowtext;border-top:none;border-left:none;\">0.75</td>\n",
    "        </tr>\n",
    "        <tr>\n",
    "            <td style=\"color:black;font-size:15px;font-weight:400;font-style:normal;text-decoration:none;font-family:Calibri, sans-serif;text-align:right;vertical-align:bottom;border:.5pt solid windowtext;height:14.25pt;border-top:none;\">3.5</td>\n",
    "            <td style=\"color:black;font-size:15px;font-weight:400;font-style:normal;text-decoration:none;font-family:Calibri, sans-serif;text-align:right;vertical-align:bottom;border:.5pt solid windowtext;border-top:none;border-left:none;\">0.75</td>\n",
    "        </tr>\n",
    "        <tr>\n",
    "            <td style=\"color:black;font-size:15px;font-weight:400;font-style:normal;text-decoration:none;font-family:Calibri, sans-serif;text-align:right;vertical-align:bottom;border:.5pt solid windowtext;height:14.25pt;border-top:none;\">3.6</td>\n",
    "            <td style=\"color:black;font-size:15px;font-weight:400;font-style:normal;text-decoration:none;font-family:Calibri, sans-serif;text-align:right;vertical-align:bottom;border:.5pt solid windowtext;border-top:none;border-left:none;\">1</td>\n",
    "        </tr>\n",
    "        <tr>\n",
    "            <td style=\"color:black;font-size:15px;font-weight:400;font-style:normal;text-decoration:none;font-family:Calibri, sans-serif;text-align:right;vertical-align:bottom;border:.5pt solid windowtext;height:14.25pt;border-top:none;\">3.7</td>\n",
    "            <td style=\"color:black;font-size:15px;font-weight:400;font-style:normal;text-decoration:none;font-family:Calibri, sans-serif;text-align:right;vertical-align:bottom;border:.5pt solid windowtext;border-top:none;border-left:none;\">1</td>\n",
    "        </tr>\n",
    "        <tr>\n",
    "            <td style=\"color:black;font-size:15px;font-weight:400;font-style:normal;text-decoration:none;font-family:Calibri, sans-serif;text-align:right;vertical-align:bottom;border:.5pt solid windowtext;height:14.25pt;border-top:none;\">3.8</td>\n",
    "            <td style=\"color:black;font-size:15px;font-weight:400;font-style:normal;text-decoration:none;font-family:Calibri, sans-serif;text-align:right;vertical-align:bottom;border:.5pt solid windowtext;border-top:none;border-left:none;\">1</td>\n",
    "        </tr>\n",
    "        <tr>\n",
    "            <td style=\"color:black;font-size:15px;font-weight:400;font-style:normal;text-decoration:none;font-family:Calibri, sans-serif;text-align:right;vertical-align:bottom;border:.5pt solid windowtext;height:14.25pt;border-top:none;\">4</td>\n",
    "            <td style=\"color:black;font-size:15px;font-weight:400;font-style:normal;text-decoration:none;font-family:Calibri, sans-serif;text-align:right;vertical-align:bottom;border:.5pt solid windowtext;border-top:none;border-left:none;\">1</td>\n",
    "        </tr>\n",
    "        <tr>\n",
    "            <td style=\"color:black;font-size:15px;font-weight:400;font-style:normal;text-decoration:none;font-family:Calibri, sans-serif;text-align:right;vertical-align:bottom;border:.5pt solid windowtext;height:14.25pt;border-top:none;\">5</td>\n",
    "            <td style=\"color:black;font-size:15px;font-weight:400;font-style:normal;text-decoration:none;font-family:Calibri, sans-serif;text-align:right;vertical-align:bottom;border:.5pt solid windowtext;border-top:none;border-left:none;\">3</td>\n",
    "        </tr>\n",
    "        <tr>\n",
    "            <td style=\"color:black;font-size:15px;font-weight:400;font-style:normal;text-decoration:none;font-family:Calibri, sans-serif;text-align:right;vertical-align:bottom;border:.5pt solid windowtext;height:14.25pt;border-top:none;\">6.1</td>\n",
    "            <td style=\"color:black;font-size:15px;font-weight:400;font-style:normal;text-decoration:none;font-family:Calibri, sans-serif;text-align:right;vertical-align:bottom;border:.5pt solid windowtext;border-top:none;border-left:none;\">0.75</td>\n",
    "        </tr>\n",
    "        <tr>\n",
    "            <td style=\"color:black;font-size:15px;font-weight:400;font-style:normal;text-decoration:none;font-family:Calibri, sans-serif;text-align:right;vertical-align:bottom;border:.5pt solid windowtext;height:14.25pt;border-top:none;\">6.2</td>\n",
    "            <td style=\"color:black;font-size:15px;font-weight:400;font-style:normal;text-decoration:none;font-family:Calibri, sans-serif;text-align:right;vertical-align:bottom;border:.5pt solid windowtext;border-top:none;border-left:none;\">0.75</td>\n",
    "        </tr>\n",
    "        <tr>\n",
    "            <td style=\"color:black;font-size:15px;font-weight:400;font-style:normal;text-decoration:none;font-family:Calibri, sans-serif;text-align:right;vertical-align:bottom;border:.5pt solid windowtext;height:14.25pt;border-top:none;\">6.3</td>\n",
    "            <td style=\"color:black;font-size:15px;font-weight:400;font-style:normal;text-decoration:none;font-family:Calibri, sans-serif;text-align:right;vertical-align:bottom;border:.5pt solid windowtext;border-top:none;border-left:none;\">0.75</td>\n",
    "        </tr>\n",
    "        <tr>\n",
    "            <td style=\"color:black;font-size:15px;font-weight:400;font-style:normal;text-decoration:none;font-family:Calibri, sans-serif;text-align:right;vertical-align:bottom;border:.5pt solid windowtext;height:14.25pt;border-top:none;\">6.4</td>\n",
    "            <td style=\"color:black;font-size:15px;font-weight:400;font-style:normal;text-decoration:none;font-family:Calibri, sans-serif;text-align:right;vertical-align:bottom;border:.5pt solid windowtext;border-top:none;border-left:none;\">1</td>\n",
    "        </tr>\n",
    "        <tr>\n",
    "            <td style=\"color:black;font-size:15px;font-weight:400;font-style:normal;text-decoration:none;font-family:Calibri, sans-serif;text-align:right;vertical-align:bottom;border:.5pt solid windowtext;height:14.25pt;border-top:none;\">6.5</td>\n",
    "            <td style=\"color:black;font-size:15px;font-weight:400;font-style:normal;text-decoration:none;font-family:Calibri, sans-serif;text-align:right;vertical-align:bottom;border:.5pt solid windowtext;border-top:none;border-left:none;\">1</td>\n",
    "        </tr>\n",
    "        <tr>\n",
    "            <td style=\"color:black;font-size:15px;font-weight:400;font-style:normal;text-decoration:none;font-family:Calibri, sans-serif;text-align:right;vertical-align:bottom;border:.5pt solid windowtext;height:14.25pt;border-top:none;\">7</td>\n",
    "            <td style=\"color:black;font-size:15px;font-weight:400;font-style:normal;text-decoration:none;font-family:Calibri, sans-serif;text-align:right;vertical-align:bottom;border:.5pt solid windowtext;border-top:none;border-left:none;\">1</td>\n",
    "        </tr>\n",
    "    </tbody>\n",
    "</table>\n"
   ]
  },
  {
   "cell_type": "code",
   "execution_count": 2,
   "metadata": {},
   "outputs": [],
   "source": [
    "import pandas as pd\n",
    "import numpy as np\n",
    "import seaborn as sns\n",
    "import matplotlib.pyplot as plt\n",
    "import statsmodels.formula.api as smf\n",
    "from sklearn.model_selection import train_test_split"
   ]
  },
  {
   "cell_type": "markdown",
   "metadata": {},
   "source": [
    "## 1. Dataset Exploration\n",
    "\n",
    "### 1.1. Reading the csv\n",
    "\n",
    "1. Read the `imdb.csv` into a dataframe. The strings that are used to represent missing values in this csv file are `No Rate`, `No Votes`, and `None`. Make sure that these values are converted to NaN values when you read the csv file.\n",
    "2. Show the first 5 rows.\n",
    "3. Show how many rows this dataframe has."
   ]
  },
  {
   "cell_type": "code",
   "execution_count": 3,
   "metadata": {},
   "outputs": [],
   "source": [
    "df = pd.read_csv('imdb.csv', na_values=['No Rate','No Votes','None'])"
   ]
  },
  {
   "cell_type": "code",
   "execution_count": 4,
   "metadata": {
    "scrolled": true
   },
   "outputs": [
    {
     "data": {
      "text/html": [
       "<div>\n",
       "<style scoped>\n",
       "    .dataframe tbody tr th:only-of-type {\n",
       "        vertical-align: middle;\n",
       "    }\n",
       "\n",
       "    .dataframe tbody tr th {\n",
       "        vertical-align: top;\n",
       "    }\n",
       "\n",
       "    .dataframe thead th {\n",
       "        text-align: right;\n",
       "    }\n",
       "</style>\n",
       "<table border=\"1\" class=\"dataframe\">\n",
       "  <thead>\n",
       "    <tr style=\"text-align: right;\">\n",
       "      <th></th>\n",
       "      <th>Name</th>\n",
       "      <th>Date</th>\n",
       "      <th>Rate</th>\n",
       "      <th>Votes</th>\n",
       "      <th>Genre</th>\n",
       "      <th>Duration</th>\n",
       "      <th>Type</th>\n",
       "      <th>Certificate</th>\n",
       "      <th>Nudity</th>\n",
       "      <th>Violence</th>\n",
       "      <th>Profanity</th>\n",
       "      <th>Alcohol</th>\n",
       "      <th>Frightening</th>\n",
       "    </tr>\n",
       "  </thead>\n",
       "  <tbody>\n",
       "    <tr>\n",
       "      <th>0</th>\n",
       "      <td>No Time to Die</td>\n",
       "      <td>2021</td>\n",
       "      <td>7.6</td>\n",
       "      <td>107163.0</td>\n",
       "      <td>Action, Adventure, Thriller</td>\n",
       "      <td>163.0</td>\n",
       "      <td>Film</td>\n",
       "      <td>PG-13</td>\n",
       "      <td>Mild</td>\n",
       "      <td>Moderate</td>\n",
       "      <td>Mild</td>\n",
       "      <td>Mild</td>\n",
       "      <td>Moderate</td>\n",
       "    </tr>\n",
       "    <tr>\n",
       "      <th>1</th>\n",
       "      <td>The Guilty</td>\n",
       "      <td>2021</td>\n",
       "      <td>6.3</td>\n",
       "      <td>64375.0</td>\n",
       "      <td>Crime, Drama, Thriller</td>\n",
       "      <td>90.0</td>\n",
       "      <td>Film</td>\n",
       "      <td>R</td>\n",
       "      <td>NaN</td>\n",
       "      <td>NaN</td>\n",
       "      <td>Severe</td>\n",
       "      <td>NaN</td>\n",
       "      <td>Moderate</td>\n",
       "    </tr>\n",
       "    <tr>\n",
       "      <th>2</th>\n",
       "      <td>The Many Saints of Newark</td>\n",
       "      <td>2021</td>\n",
       "      <td>6.4</td>\n",
       "      <td>27145.0</td>\n",
       "      <td>Crime, Drama</td>\n",
       "      <td>120.0</td>\n",
       "      <td>Film</td>\n",
       "      <td>R</td>\n",
       "      <td>Moderate</td>\n",
       "      <td>Severe</td>\n",
       "      <td>Severe</td>\n",
       "      <td>Moderate</td>\n",
       "      <td>Moderate</td>\n",
       "    </tr>\n",
       "    <tr>\n",
       "      <th>3</th>\n",
       "      <td>Venom: Let There Be Carnage</td>\n",
       "      <td>2021</td>\n",
       "      <td>6.4</td>\n",
       "      <td>30443.0</td>\n",
       "      <td>Action, Adventure, Sci-Fi</td>\n",
       "      <td>97.0</td>\n",
       "      <td>Film</td>\n",
       "      <td>PG-13</td>\n",
       "      <td>NaN</td>\n",
       "      <td>Moderate</td>\n",
       "      <td>Moderate</td>\n",
       "      <td>Mild</td>\n",
       "      <td>Moderate</td>\n",
       "    </tr>\n",
       "    <tr>\n",
       "      <th>4</th>\n",
       "      <td>Dune</td>\n",
       "      <td>2021</td>\n",
       "      <td>8.3</td>\n",
       "      <td>84636.0</td>\n",
       "      <td>Action, Adventure, Drama</td>\n",
       "      <td>155.0</td>\n",
       "      <td>Film</td>\n",
       "      <td>PG-13</td>\n",
       "      <td>NaN</td>\n",
       "      <td>Moderate</td>\n",
       "      <td>NaN</td>\n",
       "      <td>Mild</td>\n",
       "      <td>Moderate</td>\n",
       "    </tr>\n",
       "  </tbody>\n",
       "</table>\n",
       "</div>"
      ],
      "text/plain": [
       "                          Name  Date  Rate     Votes  \\\n",
       "0               No Time to Die  2021   7.6  107163.0   \n",
       "1                   The Guilty  2021   6.3   64375.0   \n",
       "2    The Many Saints of Newark  2021   6.4   27145.0   \n",
       "3  Venom: Let There Be Carnage  2021   6.4   30443.0   \n",
       "4                         Dune  2021   8.3   84636.0   \n",
       "\n",
       "                         Genre  Duration  Type Certificate    Nudity  \\\n",
       "0  Action, Adventure, Thriller     163.0  Film       PG-13      Mild   \n",
       "1       Crime, Drama, Thriller      90.0  Film           R       NaN   \n",
       "2                 Crime, Drama     120.0  Film           R  Moderate   \n",
       "3    Action, Adventure, Sci-Fi      97.0  Film       PG-13       NaN   \n",
       "4     Action, Adventure, Drama     155.0  Film       PG-13       NaN   \n",
       "\n",
       "   Violence Profanity   Alcohol Frightening  \n",
       "0  Moderate      Mild      Mild    Moderate  \n",
       "1       NaN    Severe       NaN    Moderate  \n",
       "2    Severe    Severe  Moderate    Moderate  \n",
       "3  Moderate  Moderate      Mild    Moderate  \n",
       "4  Moderate       NaN      Mild    Moderate  "
      ]
     },
     "execution_count": 4,
     "metadata": {},
     "output_type": "execute_result"
    }
   ],
   "source": [
    "df.head()"
   ]
  },
  {
   "cell_type": "code",
   "execution_count": 5,
   "metadata": {},
   "outputs": [
    {
     "data": {
      "text/plain": [
       "6178"
      ]
     },
     "execution_count": 5,
     "metadata": {},
     "output_type": "execute_result"
    }
   ],
   "source": [
    "df.shape[0]"
   ]
  },
  {
   "cell_type": "markdown",
   "metadata": {},
   "source": [
    "### 1.2. Dropping NaN Values\n",
    "\n",
    "We only intend to use the `Rate`, `Genre`, `Nudity`, `Violence`, `Profanity`, `Alcohol`, `Frightening` variables in this dataframe.\n",
    "\n",
    "1. Create a dataframe with just these variables.\n",
    "2. Then drop all rows from this dataframe that have a NaN value.\n",
    "3. How many rows did you drop?"
   ]
  },
  {
   "cell_type": "code",
   "execution_count": 6,
   "metadata": {},
   "outputs": [],
   "source": [
    "df_new = df[['Rate','Genre','Nudity','Violence','Profanity','Alcohol','Frightening']]\n",
    "df_new = df_new.dropna()"
   ]
  },
  {
   "cell_type": "code",
   "execution_count": 7,
   "metadata": {},
   "outputs": [
    {
     "data": {
      "text/plain": [
       "3425"
      ]
     },
     "execution_count": 7,
     "metadata": {},
     "output_type": "execute_result"
    }
   ],
   "source": [
    "df.shape[0] - df_new.shape[0]"
   ]
  },
  {
   "cell_type": "markdown",
   "metadata": {},
   "source": [
    "### 1.3. Sci-Fi Movies\n",
    "\n",
    "Finally, only keep those rows in your dataframe that have `Sci-Fi` as one of the genres.\n",
    "\n",
    "*Hint: You might consider first creating a variable called `is_scifi` which assesses whether 'Sci-Fi' is one of the genres this movie is about.*"
   ]
  },
  {
   "cell_type": "code",
   "execution_count": 8,
   "metadata": {},
   "outputs": [
    {
     "data": {
      "text/html": [
       "<div>\n",
       "<style scoped>\n",
       "    .dataframe tbody tr th:only-of-type {\n",
       "        vertical-align: middle;\n",
       "    }\n",
       "\n",
       "    .dataframe tbody tr th {\n",
       "        vertical-align: top;\n",
       "    }\n",
       "\n",
       "    .dataframe thead th {\n",
       "        text-align: right;\n",
       "    }\n",
       "</style>\n",
       "<table border=\"1\" class=\"dataframe\">\n",
       "  <thead>\n",
       "    <tr style=\"text-align: right;\">\n",
       "      <th></th>\n",
       "      <th>Rate</th>\n",
       "      <th>Genre</th>\n",
       "      <th>Nudity</th>\n",
       "      <th>Violence</th>\n",
       "      <th>Profanity</th>\n",
       "      <th>Alcohol</th>\n",
       "      <th>Frightening</th>\n",
       "      <th>is_scifi</th>\n",
       "    </tr>\n",
       "  </thead>\n",
       "  <tbody>\n",
       "    <tr>\n",
       "      <th>0</th>\n",
       "      <td>7.6</td>\n",
       "      <td>Action, Adventure, Thriller</td>\n",
       "      <td>Mild</td>\n",
       "      <td>Moderate</td>\n",
       "      <td>Mild</td>\n",
       "      <td>Mild</td>\n",
       "      <td>Moderate</td>\n",
       "      <td>False</td>\n",
       "    </tr>\n",
       "    <tr>\n",
       "      <th>2</th>\n",
       "      <td>6.4</td>\n",
       "      <td>Crime, Drama</td>\n",
       "      <td>Moderate</td>\n",
       "      <td>Severe</td>\n",
       "      <td>Severe</td>\n",
       "      <td>Moderate</td>\n",
       "      <td>Moderate</td>\n",
       "      <td>False</td>\n",
       "    </tr>\n",
       "    <tr>\n",
       "      <th>9</th>\n",
       "      <td>8.3</td>\n",
       "      <td>Comedy, Drama</td>\n",
       "      <td>Severe</td>\n",
       "      <td>Mild</td>\n",
       "      <td>Severe</td>\n",
       "      <td>Moderate</td>\n",
       "      <td>Mild</td>\n",
       "      <td>False</td>\n",
       "    </tr>\n",
       "    <tr>\n",
       "      <th>10</th>\n",
       "      <td>8.2</td>\n",
       "      <td>Drama, Horror, Thriller</td>\n",
       "      <td>Mild</td>\n",
       "      <td>Severe</td>\n",
       "      <td>Moderate</td>\n",
       "      <td>Mild</td>\n",
       "      <td>Severe</td>\n",
       "      <td>False</td>\n",
       "    </tr>\n",
       "    <tr>\n",
       "      <th>13</th>\n",
       "      <td>9.2</td>\n",
       "      <td>Crime, Drama</td>\n",
       "      <td>Severe</td>\n",
       "      <td>Severe</td>\n",
       "      <td>Severe</td>\n",
       "      <td>Severe</td>\n",
       "      <td>Severe</td>\n",
       "      <td>False</td>\n",
       "    </tr>\n",
       "    <tr>\n",
       "      <th>...</th>\n",
       "      <td>...</td>\n",
       "      <td>...</td>\n",
       "      <td>...</td>\n",
       "      <td>...</td>\n",
       "      <td>...</td>\n",
       "      <td>...</td>\n",
       "      <td>...</td>\n",
       "      <td>...</td>\n",
       "    </tr>\n",
       "    <tr>\n",
       "      <th>6169</th>\n",
       "      <td>6.6</td>\n",
       "      <td>Drama, History, Thriller</td>\n",
       "      <td>Mild</td>\n",
       "      <td>Moderate</td>\n",
       "      <td>Moderate</td>\n",
       "      <td>Mild</td>\n",
       "      <td>Severe</td>\n",
       "      <td>False</td>\n",
       "    </tr>\n",
       "    <tr>\n",
       "      <th>6171</th>\n",
       "      <td>7.8</td>\n",
       "      <td>Action, Crime, Thriller</td>\n",
       "      <td>Mild</td>\n",
       "      <td>Severe</td>\n",
       "      <td>Moderate</td>\n",
       "      <td>Mild</td>\n",
       "      <td>Severe</td>\n",
       "      <td>False</td>\n",
       "    </tr>\n",
       "    <tr>\n",
       "      <th>6173</th>\n",
       "      <td>3.8</td>\n",
       "      <td>Horror</td>\n",
       "      <td>Severe</td>\n",
       "      <td>Severe</td>\n",
       "      <td>Severe</td>\n",
       "      <td>Mild</td>\n",
       "      <td>Severe</td>\n",
       "      <td>False</td>\n",
       "    </tr>\n",
       "    <tr>\n",
       "      <th>6175</th>\n",
       "      <td>7.3</td>\n",
       "      <td>Crime, Drama, Thriller</td>\n",
       "      <td>Severe</td>\n",
       "      <td>Moderate</td>\n",
       "      <td>Severe</td>\n",
       "      <td>Severe</td>\n",
       "      <td>Severe</td>\n",
       "      <td>False</td>\n",
       "    </tr>\n",
       "    <tr>\n",
       "      <th>6177</th>\n",
       "      <td>6.3</td>\n",
       "      <td>Action, Sci-Fi, Thriller</td>\n",
       "      <td>Mild</td>\n",
       "      <td>Severe</td>\n",
       "      <td>Severe</td>\n",
       "      <td>Mild</td>\n",
       "      <td>Moderate</td>\n",
       "      <td>True</td>\n",
       "    </tr>\n",
       "  </tbody>\n",
       "</table>\n",
       "<p>2753 rows × 8 columns</p>\n",
       "</div>"
      ],
      "text/plain": [
       "      Rate                        Genre    Nudity  Violence Profanity  \\\n",
       "0      7.6  Action, Adventure, Thriller      Mild  Moderate      Mild   \n",
       "2      6.4                 Crime, Drama  Moderate    Severe    Severe   \n",
       "9      8.3                Comedy, Drama    Severe      Mild    Severe   \n",
       "10     8.2      Drama, Horror, Thriller      Mild    Severe  Moderate   \n",
       "13     9.2                 Crime, Drama    Severe    Severe    Severe   \n",
       "...    ...                          ...       ...       ...       ...   \n",
       "6169   6.6     Drama, History, Thriller      Mild  Moderate  Moderate   \n",
       "6171   7.8      Action, Crime, Thriller      Mild    Severe  Moderate   \n",
       "6173   3.8                       Horror    Severe    Severe    Severe   \n",
       "6175   7.3       Crime, Drama, Thriller    Severe  Moderate    Severe   \n",
       "6177   6.3     Action, Sci-Fi, Thriller      Mild    Severe    Severe   \n",
       "\n",
       "       Alcohol Frightening  is_scifi  \n",
       "0         Mild    Moderate     False  \n",
       "2     Moderate    Moderate     False  \n",
       "9     Moderate        Mild     False  \n",
       "10        Mild      Severe     False  \n",
       "13      Severe      Severe     False  \n",
       "...        ...         ...       ...  \n",
       "6169      Mild      Severe     False  \n",
       "6171      Mild      Severe     False  \n",
       "6173      Mild      Severe     False  \n",
       "6175    Severe      Severe     False  \n",
       "6177      Mild    Moderate      True  \n",
       "\n",
       "[2753 rows x 8 columns]"
      ]
     },
     "execution_count": 8,
     "metadata": {},
     "output_type": "execute_result"
    }
   ],
   "source": [
    "df_new['is_scifi'] = df_new['Genre'].apply(lambda x:('Sci-Fi' in x))\n",
    "df_new"
   ]
  },
  {
   "cell_type": "code",
   "execution_count": 9,
   "metadata": {},
   "outputs": [
    {
     "data": {
      "text/html": [
       "<div>\n",
       "<style scoped>\n",
       "    .dataframe tbody tr th:only-of-type {\n",
       "        vertical-align: middle;\n",
       "    }\n",
       "\n",
       "    .dataframe tbody tr th {\n",
       "        vertical-align: top;\n",
       "    }\n",
       "\n",
       "    .dataframe thead th {\n",
       "        text-align: right;\n",
       "    }\n",
       "</style>\n",
       "<table border=\"1\" class=\"dataframe\">\n",
       "  <thead>\n",
       "    <tr style=\"text-align: right;\">\n",
       "      <th></th>\n",
       "      <th>Rate</th>\n",
       "      <th>Genre</th>\n",
       "      <th>Nudity</th>\n",
       "      <th>Violence</th>\n",
       "      <th>Profanity</th>\n",
       "      <th>Alcohol</th>\n",
       "      <th>Frightening</th>\n",
       "      <th>is_scifi</th>\n",
       "    </tr>\n",
       "  </thead>\n",
       "  <tbody>\n",
       "    <tr>\n",
       "      <th>38</th>\n",
       "      <td>6.7</td>\n",
       "      <td>Action, Adventure, Sci-Fi</td>\n",
       "      <td>Mild</td>\n",
       "      <td>Moderate</td>\n",
       "      <td>Moderate</td>\n",
       "      <td>Mild</td>\n",
       "      <td>Moderate</td>\n",
       "      <td>True</td>\n",
       "    </tr>\n",
       "    <tr>\n",
       "      <th>46</th>\n",
       "      <td>7.2</td>\n",
       "      <td>Drama, Horror, Sci-Fi</td>\n",
       "      <td>Severe</td>\n",
       "      <td>Severe</td>\n",
       "      <td>Severe</td>\n",
       "      <td>Moderate</td>\n",
       "      <td>Severe</td>\n",
       "      <td>True</td>\n",
       "    </tr>\n",
       "    <tr>\n",
       "      <th>121</th>\n",
       "      <td>8.8</td>\n",
       "      <td>Drama, Sci-Fi, Thriller</td>\n",
       "      <td>Severe</td>\n",
       "      <td>Severe</td>\n",
       "      <td>Severe</td>\n",
       "      <td>Mild</td>\n",
       "      <td>Severe</td>\n",
       "      <td>True</td>\n",
       "    </tr>\n",
       "    <tr>\n",
       "      <th>127</th>\n",
       "      <td>8.4</td>\n",
       "      <td>Drama, Sci-Fi, Thriller</td>\n",
       "      <td>Severe</td>\n",
       "      <td>Severe</td>\n",
       "      <td>Moderate</td>\n",
       "      <td>Mild</td>\n",
       "      <td>Severe</td>\n",
       "      <td>True</td>\n",
       "    </tr>\n",
       "    <tr>\n",
       "      <th>163</th>\n",
       "      <td>8.5</td>\n",
       "      <td>Drama, Mystery, Sci-Fi</td>\n",
       "      <td>Moderate</td>\n",
       "      <td>Moderate</td>\n",
       "      <td>Moderate</td>\n",
       "      <td>Mild</td>\n",
       "      <td>Moderate</td>\n",
       "      <td>True</td>\n",
       "    </tr>\n",
       "    <tr>\n",
       "      <th>...</th>\n",
       "      <td>...</td>\n",
       "      <td>...</td>\n",
       "      <td>...</td>\n",
       "      <td>...</td>\n",
       "      <td>...</td>\n",
       "      <td>...</td>\n",
       "      <td>...</td>\n",
       "      <td>...</td>\n",
       "    </tr>\n",
       "    <tr>\n",
       "      <th>6087</th>\n",
       "      <td>7.3</td>\n",
       "      <td>Drama, Horror, Sci-Fi</td>\n",
       "      <td>Moderate</td>\n",
       "      <td>Mild</td>\n",
       "      <td>Moderate</td>\n",
       "      <td>Mild</td>\n",
       "      <td>Moderate</td>\n",
       "      <td>True</td>\n",
       "    </tr>\n",
       "    <tr>\n",
       "      <th>6135</th>\n",
       "      <td>6.8</td>\n",
       "      <td>Horror, Sci-Fi</td>\n",
       "      <td>Mild</td>\n",
       "      <td>Severe</td>\n",
       "      <td>Mild</td>\n",
       "      <td>Mild</td>\n",
       "      <td>Severe</td>\n",
       "      <td>True</td>\n",
       "    </tr>\n",
       "    <tr>\n",
       "      <th>6144</th>\n",
       "      <td>7.2</td>\n",
       "      <td>Action, Adventure, Sci-Fi</td>\n",
       "      <td>Moderate</td>\n",
       "      <td>Moderate</td>\n",
       "      <td>Mild</td>\n",
       "      <td>Mild</td>\n",
       "      <td>Mild</td>\n",
       "      <td>True</td>\n",
       "    </tr>\n",
       "    <tr>\n",
       "      <th>6145</th>\n",
       "      <td>4.6</td>\n",
       "      <td>Action, Horror, Sci-Fi</td>\n",
       "      <td>Mild</td>\n",
       "      <td>Severe</td>\n",
       "      <td>Moderate</td>\n",
       "      <td>Mild</td>\n",
       "      <td>Severe</td>\n",
       "      <td>True</td>\n",
       "    </tr>\n",
       "    <tr>\n",
       "      <th>6177</th>\n",
       "      <td>6.3</td>\n",
       "      <td>Action, Sci-Fi, Thriller</td>\n",
       "      <td>Mild</td>\n",
       "      <td>Severe</td>\n",
       "      <td>Severe</td>\n",
       "      <td>Mild</td>\n",
       "      <td>Moderate</td>\n",
       "      <td>True</td>\n",
       "    </tr>\n",
       "  </tbody>\n",
       "</table>\n",
       "<p>293 rows × 8 columns</p>\n",
       "</div>"
      ],
      "text/plain": [
       "      Rate                      Genre    Nudity  Violence Profanity   Alcohol  \\\n",
       "38     6.7  Action, Adventure, Sci-Fi      Mild  Moderate  Moderate      Mild   \n",
       "46     7.2      Drama, Horror, Sci-Fi    Severe    Severe    Severe  Moderate   \n",
       "121    8.8    Drama, Sci-Fi, Thriller    Severe    Severe    Severe      Mild   \n",
       "127    8.4    Drama, Sci-Fi, Thriller    Severe    Severe  Moderate      Mild   \n",
       "163    8.5     Drama, Mystery, Sci-Fi  Moderate  Moderate  Moderate      Mild   \n",
       "...    ...                        ...       ...       ...       ...       ...   \n",
       "6087   7.3      Drama, Horror, Sci-Fi  Moderate      Mild  Moderate      Mild   \n",
       "6135   6.8             Horror, Sci-Fi      Mild    Severe      Mild      Mild   \n",
       "6144   7.2  Action, Adventure, Sci-Fi  Moderate  Moderate      Mild      Mild   \n",
       "6145   4.6     Action, Horror, Sci-Fi      Mild    Severe  Moderate      Mild   \n",
       "6177   6.3   Action, Sci-Fi, Thriller      Mild    Severe    Severe      Mild   \n",
       "\n",
       "     Frightening  is_scifi  \n",
       "38      Moderate      True  \n",
       "46        Severe      True  \n",
       "121       Severe      True  \n",
       "127       Severe      True  \n",
       "163     Moderate      True  \n",
       "...          ...       ...  \n",
       "6087    Moderate      True  \n",
       "6135      Severe      True  \n",
       "6144        Mild      True  \n",
       "6145      Severe      True  \n",
       "6177    Moderate      True  \n",
       "\n",
       "[293 rows x 8 columns]"
      ]
     },
     "execution_count": 9,
     "metadata": {},
     "output_type": "execute_result"
    }
   ],
   "source": [
    "df_new_scifi = df_new[df_new.is_scifi == True]\n",
    "df_new_scifi"
   ]
  },
  {
   "cell_type": "markdown",
   "metadata": {},
   "source": [
    "### 1.4. Train Test Split\n",
    "\n",
    "Finally, create a random training dataset and test dataset from your dataset in 1.3 using a random state of `123`, where the test dataset size is 20% of the observations."
   ]
  },
  {
   "cell_type": "code",
   "execution_count": 10,
   "metadata": {},
   "outputs": [],
   "source": [
    "df_train, df_test = train_test_split(df_new_scifi, test_size=.2, random_state=123)"
   ]
  },
  {
   "cell_type": "code",
   "execution_count": 11,
   "metadata": {},
   "outputs": [
    {
     "name": "stdout",
     "output_type": "stream",
     "text": [
      "0.20136518771331058\n",
      "0.7986348122866894\n"
     ]
    }
   ],
   "source": [
    "print(df_test.shape[0]/df_new_scifi.shape[0])\n",
    "print(df_train.shape[0]/df_new_scifi.shape[0])"
   ]
  },
  {
   "cell_type": "markdown",
   "metadata": {},
   "source": [
    "## 2. Pre-Analysis\n",
    "\n",
    "Eventually, we will build a linear regression model that will predict the IMDB `Rate`ing of `Sci-Fi` movies given the level of content from each of the 5 content types:\n",
    "* `Nudity`\n",
    "* `Violence`\n",
    "* `Profanity`\n",
    "* `Alcohol`\n",
    "* `Frightening`\n",
    "\n",
    "### 2.1. Weakest Individual Association\n",
    "\n",
    "First, let's determine which of these 5 explanatory variables has the weakest association with `Rate` for `Sci-Fi` movies in the training dataset. We'll seek to answer this question in two different ways.\n",
    "\n",
    "#### 2.1.1. Visualizations\n",
    "\n",
    "First, use the appropriate visualizations to assess which of our 5 explanatory variables has the weakest association with `Rate` in the training dataset.\n"
   ]
  },
  {
   "cell_type": "code",
   "execution_count": 12,
   "metadata": {},
   "outputs": [
    {
     "data": {
      "image/png": "[encoded data removed]",
      "text/plain": [
       "<Figure size 640x480 with 1 Axes>"
      ]
     },
     "metadata": {},
     "output_type": "display_data"
    }
   ],
   "source": [
    "sns.boxplot(x='Nudity', y='Rate',data=df_train)\n",
    "plt.show()"
   ]
  },
  {
   "cell_type": "code",
   "execution_count": 13,
   "metadata": {},
   "outputs": [
    {
     "data": {
      "image/png": "[encoded data removed]",
      "text/plain": [
       "<Figure size 640x480 with 1 Axes>"
      ]
     },
     "metadata": {},
     "output_type": "display_data"
    }
   ],
   "source": [
    "sns.boxplot(x='Violence', y='Rate',data=df_train)\n",
    "plt.show()"
   ]
  },
  {
   "cell_type": "code",
   "execution_count": 14,
   "metadata": {},
   "outputs": [
    {
     "data": {
      "image/png": "[encoded data removed]",
      "text/plain": [
       "<Figure size 640x480 with 1 Axes>"
      ]
     },
     "metadata": {},
     "output_type": "display_data"
    }
   ],
   "source": [
    "sns.boxplot(x='Profanity', y='Rate',data=df_train)\n",
    "plt.show()"
   ]
  },
  {
   "cell_type": "code",
   "execution_count": 15,
   "metadata": {},
   "outputs": [
    {
     "data": {
      "image/png": "[encoded data removed]",
      "text/plain": [
       "<Figure size 640x480 with 1 Axes>"
      ]
     },
     "metadata": {},
     "output_type": "display_data"
    }
   ],
   "source": [
    "sns.boxplot(x='Alcohol', y='Rate',data=df_train)\n",
    "plt.show()"
   ]
  },
  {
   "cell_type": "code",
   "execution_count": 16,
   "metadata": {},
   "outputs": [
    {
     "data": {
      "image/png": "[encoded data removed]",
      "text/plain": [
       "<Figure size 640x480 with 1 Axes>"
      ]
     },
     "metadata": {},
     "output_type": "display_data"
    }
   ],
   "source": [
    "sns.boxplot(x='Frightening', y='Rate',data=df_train)\n",
    "plt.show()"
   ]
  },
  {
   "cell_type": "markdown",
   "metadata": {},
   "source": [
    "Nudity has the most amount of overlap between each of its values and their corresponding Rate IQR boxes, so it has the weakest association with Rate in the dataset."
   ]
  },
  {
   "cell_type": "markdown",
   "metadata": {},
   "source": [
    "#### 2.1.2. Training Dataset R^2\n",
    "\n",
    "Next, fit the following five linear regression models and use them to determine which of our 5 explanatory variables brings the *least* amount of independent predictive power to the model.\n",
    "* Linear regression that predicts `Rate` with `Nudity`.\n",
    "* Linear regression that predicts `Rate` with `Violence`.\n",
    "* Linear regression that predicts `Rate` with `Profanity`.\n",
    "* Linear regression that predicts `Rate` with `Alcohol`.\n",
    "* Linear regression that predicts `Rate` with `Frightening`.\n",
    "\n",
    "You might use your assessment here to also suggest which explanatory variable has the weakest association with `Rate`.\n"
   ]
  },
  {
   "cell_type": "code",
   "execution_count": 17,
   "metadata": {},
   "outputs": [
    {
     "data": {
      "text/html": [
       "<table class=\"simpletable\">\n",
       "<caption>OLS Regression Results</caption>\n",
       "<tr>\n",
       "  <th>Dep. Variable:</th>          <td>Rate</td>       <th>  R-squared:         </th> <td>   0.011</td>\n",
       "</tr>\n",
       "<tr>\n",
       "  <th>Model:</th>                   <td>OLS</td>       <th>  Adj. R-squared:    </th> <td>   0.003</td>\n",
       "</tr>\n",
       "<tr>\n",
       "  <th>Method:</th>             <td>Least Squares</td>  <th>  F-statistic:       </th> <td>   1.343</td>\n",
       "</tr>\n",
       "<tr>\n",
       "  <th>Date:</th>             <td>Fri, 29 Mar 2024</td> <th>  Prob (F-statistic):</th>  <td> 0.263</td> \n",
       "</tr>\n",
       "<tr>\n",
       "  <th>Time:</th>                 <td>16:25:09</td>     <th>  Log-Likelihood:    </th> <td> -376.00</td>\n",
       "</tr>\n",
       "<tr>\n",
       "  <th>No. Observations:</th>      <td>   234</td>      <th>  AIC:               </th> <td>   758.0</td>\n",
       "</tr>\n",
       "<tr>\n",
       "  <th>Df Residuals:</th>          <td>   231</td>      <th>  BIC:               </th> <td>   768.4</td>\n",
       "</tr>\n",
       "<tr>\n",
       "  <th>Df Model:</th>              <td>     2</td>      <th>                     </th>     <td> </td>   \n",
       "</tr>\n",
       "<tr>\n",
       "  <th>Covariance Type:</th>      <td>nonrobust</td>    <th>                     </th>     <td> </td>   \n",
       "</tr>\n",
       "</table>\n",
       "<table class=\"simpletable\">\n",
       "<tr>\n",
       "           <td></td>             <th>coef</th>     <th>std err</th>      <th>t</th>      <th>P>|t|</th>  <th>[0.025</th>    <th>0.975]</th>  \n",
       "</tr>\n",
       "<tr>\n",
       "  <th>Intercept</th>          <td>    6.7120</td> <td>    0.094</td> <td>   71.416</td> <td> 0.000</td> <td>    6.527</td> <td>    6.897</td>\n",
       "</tr>\n",
       "<tr>\n",
       "  <th>Nudity[T.Moderate]</th> <td>    0.0183</td> <td>    0.208</td> <td>    0.088</td> <td> 0.930</td> <td>   -0.391</td> <td>    0.427</td>\n",
       "</tr>\n",
       "<tr>\n",
       "  <th>Nudity[T.Severe]</th>   <td>   -0.4245</td> <td>    0.265</td> <td>   -1.601</td> <td> 0.111</td> <td>   -0.947</td> <td>    0.098</td>\n",
       "</tr>\n",
       "</table>\n",
       "<table class=\"simpletable\">\n",
       "<tr>\n",
       "  <th>Omnibus:</th>       <td>43.939</td> <th>  Durbin-Watson:     </th> <td>   2.253</td>\n",
       "</tr>\n",
       "<tr>\n",
       "  <th>Prob(Omnibus):</th> <td> 0.000</td> <th>  Jarque-Bera (JB):  </th> <td>  76.344</td>\n",
       "</tr>\n",
       "<tr>\n",
       "  <th>Skew:</th>          <td>-0.998</td> <th>  Prob(JB):          </th> <td>2.64e-17</td>\n",
       "</tr>\n",
       "<tr>\n",
       "  <th>Kurtosis:</th>      <td> 4.961</td> <th>  Cond. No.          </th> <td>    3.53</td>\n",
       "</tr>\n",
       "</table><br/><br/>Notes:<br/>[1] Standard Errors assume that the covariance matrix of the errors is correctly specified."
      ],
      "text/latex": [
       "\\begin{center}\n",
       "\\begin{tabular}{lclc}\n",
       "\\toprule\n",
       "\\textbf{Dep. Variable:}     &       Rate       & \\textbf{  R-squared:         } &     0.011   \\\\\n",
       "\\textbf{Model:}             &       OLS        & \\textbf{  Adj. R-squared:    } &     0.003   \\\\\n",
       "\\textbf{Method:}            &  Least Squares   & \\textbf{  F-statistic:       } &     1.343   \\\\\n",
       "\\textbf{Date:}              & Fri, 29 Mar 2024 & \\textbf{  Prob (F-statistic):} &    0.263    \\\\\n",
       "\\textbf{Time:}              &     16:25:09     & \\textbf{  Log-Likelihood:    } &   -376.00   \\\\\n",
       "\\textbf{No. Observations:}  &         234      & \\textbf{  AIC:               } &     758.0   \\\\\n",
       "\\textbf{Df Residuals:}      &         231      & \\textbf{  BIC:               } &     768.4   \\\\\n",
       "\\textbf{Df Model:}          &           2      & \\textbf{                     } &             \\\\\n",
       "\\textbf{Covariance Type:}   &    nonrobust     & \\textbf{                     } &             \\\\\n",
       "\\bottomrule\n",
       "\\end{tabular}\n",
       "\\begin{tabular}{lcccccc}\n",
       "                            & \\textbf{coef} & \\textbf{std err} & \\textbf{t} & \\textbf{P$> |$t$|$} & \\textbf{[0.025} & \\textbf{0.975]}  \\\\\n",
       "\\midrule\n",
       "\\textbf{Intercept}          &       6.7120  &        0.094     &    71.416  &         0.000        &        6.527    &        6.897     \\\\\n",
       "\\textbf{Nudity[T.Moderate]} &       0.0183  &        0.208     &     0.088  &         0.930        &       -0.391    &        0.427     \\\\\n",
       "\\textbf{Nudity[T.Severe]}   &      -0.4245  &        0.265     &    -1.601  &         0.111        &       -0.947    &        0.098     \\\\\n",
       "\\bottomrule\n",
       "\\end{tabular}\n",
       "\\begin{tabular}{lclc}\n",
       "\\textbf{Omnibus:}       & 43.939 & \\textbf{  Durbin-Watson:     } &    2.253  \\\\\n",
       "\\textbf{Prob(Omnibus):} &  0.000 & \\textbf{  Jarque-Bera (JB):  } &   76.344  \\\\\n",
       "\\textbf{Skew:}          & -0.998 & \\textbf{  Prob(JB):          } & 2.64e-17  \\\\\n",
       "\\textbf{Kurtosis:}      &  4.961 & \\textbf{  Cond. No.          } &     3.53  \\\\\n",
       "\\bottomrule\n",
       "\\end{tabular}\n",
       "%\\caption{OLS Regression Results}\n",
       "\\end{center}\n",
       "\n",
       "Notes: \\newline\n",
       " [1] Standard Errors assume that the covariance matrix of the errors is correctly specified."
      ],
      "text/plain": [
       "<class 'statsmodels.iolib.summary.Summary'>\n",
       "\"\"\"\n",
       "                            OLS Regression Results                            \n",
       "==============================================================================\n",
       "Dep. Variable:                   Rate   R-squared:                       0.011\n",
       "Model:                            OLS   Adj. R-squared:                  0.003\n",
       "Method:                 Least Squares   F-statistic:                     1.343\n",
       "Date:                Fri, 29 Mar 2024   Prob (F-statistic):              0.263\n",
       "Time:                        16:25:09   Log-Likelihood:                -376.00\n",
       "No. Observations:                 234   AIC:                             758.0\n",
       "Df Residuals:                     231   BIC:                             768.4\n",
       "Df Model:                           2                                         \n",
       "Covariance Type:            nonrobust                                         \n",
       "======================================================================================\n",
       "                         coef    std err          t      P>|t|      [0.025      0.975]\n",
       "--------------------------------------------------------------------------------------\n",
       "Intercept              6.7120      0.094     71.416      0.000       6.527       6.897\n",
       "Nudity[T.Moderate]     0.0183      0.208      0.088      0.930      -0.391       0.427\n",
       "Nudity[T.Severe]      -0.4245      0.265     -1.601      0.111      -0.947       0.098\n",
       "==============================================================================\n",
       "Omnibus:                       43.939   Durbin-Watson:                   2.253\n",
       "Prob(Omnibus):                  0.000   Jarque-Bera (JB):               76.344\n",
       "Skew:                          -0.998   Prob(JB):                     2.64e-17\n",
       "Kurtosis:                       4.961   Cond. No.                         3.53\n",
       "==============================================================================\n",
       "\n",
       "Notes:\n",
       "[1] Standard Errors assume that the covariance matrix of the errors is correctly specified.\n",
       "\"\"\""
      ]
     },
     "execution_count": 17,
     "metadata": {},
     "output_type": "execute_result"
    }
   ],
   "source": [
    "model_nudity = smf.ols(formula='Rate~Nudity', data=df_train).fit()\n",
    "model_nudity.summary()"
   ]
  },
  {
   "cell_type": "code",
   "execution_count": 18,
   "metadata": {},
   "outputs": [
    {
     "data": {
      "text/html": [
       "<table class=\"simpletable\">\n",
       "<caption>OLS Regression Results</caption>\n",
       "<tr>\n",
       "  <th>Dep. Variable:</th>          <td>Rate</td>       <th>  R-squared:         </th> <td>   0.087</td>\n",
       "</tr>\n",
       "<tr>\n",
       "  <th>Model:</th>                   <td>OLS</td>       <th>  Adj. R-squared:    </th> <td>   0.079</td>\n",
       "</tr>\n",
       "<tr>\n",
       "  <th>Method:</th>             <td>Least Squares</td>  <th>  F-statistic:       </th> <td>   10.97</td>\n",
       "</tr>\n",
       "<tr>\n",
       "  <th>Date:</th>             <td>Fri, 29 Mar 2024</td> <th>  Prob (F-statistic):</th> <td>2.81e-05</td>\n",
       "</tr>\n",
       "<tr>\n",
       "  <th>Time:</th>                 <td>16:25:09</td>     <th>  Log-Likelihood:    </th> <td> -366.74</td>\n",
       "</tr>\n",
       "<tr>\n",
       "  <th>No. Observations:</th>      <td>   234</td>      <th>  AIC:               </th> <td>   739.5</td>\n",
       "</tr>\n",
       "<tr>\n",
       "  <th>Df Residuals:</th>          <td>   231</td>      <th>  BIC:               </th> <td>   749.8</td>\n",
       "</tr>\n",
       "<tr>\n",
       "  <th>Df Model:</th>              <td>     2</td>      <th>                     </th>     <td> </td>   \n",
       "</tr>\n",
       "<tr>\n",
       "  <th>Covariance Type:</th>      <td>nonrobust</td>    <th>                     </th>     <td> </td>   \n",
       "</tr>\n",
       "</table>\n",
       "<table class=\"simpletable\">\n",
       "<tr>\n",
       "            <td></td>              <th>coef</th>     <th>std err</th>      <th>t</th>      <th>P>|t|</th>  <th>[0.025</th>    <th>0.975]</th>  \n",
       "</tr>\n",
       "<tr>\n",
       "  <th>Intercept</th>            <td>    7.1366</td> <td>    0.182</td> <td>   39.143</td> <td> 0.000</td> <td>    6.777</td> <td>    7.496</td>\n",
       "</tr>\n",
       "<tr>\n",
       "  <th>Violence[T.Moderate]</th> <td>   -0.2781</td> <td>    0.215</td> <td>   -1.295</td> <td> 0.197</td> <td>   -0.701</td> <td>    0.145</td>\n",
       "</tr>\n",
       "<tr>\n",
       "  <th>Violence[T.Severe]</th>   <td>   -0.9113</td> <td>    0.221</td> <td>   -4.121</td> <td> 0.000</td> <td>   -1.347</td> <td>   -0.476</td>\n",
       "</tr>\n",
       "</table>\n",
       "<table class=\"simpletable\">\n",
       "<tr>\n",
       "  <th>Omnibus:</th>       <td>41.027</td> <th>  Durbin-Watson:     </th> <td>   2.176</td>\n",
       "</tr>\n",
       "<tr>\n",
       "  <th>Prob(Omnibus):</th> <td> 0.000</td> <th>  Jarque-Bera (JB):  </th> <td>  69.607</td>\n",
       "</tr>\n",
       "<tr>\n",
       "  <th>Skew:</th>          <td>-0.948</td> <th>  Prob(JB):          </th> <td>7.67e-16</td>\n",
       "</tr>\n",
       "<tr>\n",
       "  <th>Kurtosis:</th>      <td> 4.883</td> <th>  Cond. No.          </th> <td>    5.07</td>\n",
       "</tr>\n",
       "</table><br/><br/>Notes:<br/>[1] Standard Errors assume that the covariance matrix of the errors is correctly specified."
      ],
      "text/latex": [
       "\\begin{center}\n",
       "\\begin{tabular}{lclc}\n",
       "\\toprule\n",
       "\\textbf{Dep. Variable:}       &       Rate       & \\textbf{  R-squared:         } &     0.087   \\\\\n",
       "\\textbf{Model:}               &       OLS        & \\textbf{  Adj. R-squared:    } &     0.079   \\\\\n",
       "\\textbf{Method:}              &  Least Squares   & \\textbf{  F-statistic:       } &     10.97   \\\\\n",
       "\\textbf{Date:}                & Fri, 29 Mar 2024 & \\textbf{  Prob (F-statistic):} &  2.81e-05   \\\\\n",
       "\\textbf{Time:}                &     16:25:09     & \\textbf{  Log-Likelihood:    } &   -366.74   \\\\\n",
       "\\textbf{No. Observations:}    &         234      & \\textbf{  AIC:               } &     739.5   \\\\\n",
       "\\textbf{Df Residuals:}        &         231      & \\textbf{  BIC:               } &     749.8   \\\\\n",
       "\\textbf{Df Model:}            &           2      & \\textbf{                     } &             \\\\\n",
       "\\textbf{Covariance Type:}     &    nonrobust     & \\textbf{                     } &             \\\\\n",
       "\\bottomrule\n",
       "\\end{tabular}\n",
       "\\begin{tabular}{lcccccc}\n",
       "                              & \\textbf{coef} & \\textbf{std err} & \\textbf{t} & \\textbf{P$> |$t$|$} & \\textbf{[0.025} & \\textbf{0.975]}  \\\\\n",
       "\\midrule\n",
       "\\textbf{Intercept}            &       7.1366  &        0.182     &    39.143  &         0.000        &        6.777    &        7.496     \\\\\n",
       "\\textbf{Violence[T.Moderate]} &      -0.2781  &        0.215     &    -1.295  &         0.197        &       -0.701    &        0.145     \\\\\n",
       "\\textbf{Violence[T.Severe]}   &      -0.9113  &        0.221     &    -4.121  &         0.000        &       -1.347    &       -0.476     \\\\\n",
       "\\bottomrule\n",
       "\\end{tabular}\n",
       "\\begin{tabular}{lclc}\n",
       "\\textbf{Omnibus:}       & 41.027 & \\textbf{  Durbin-Watson:     } &    2.176  \\\\\n",
       "\\textbf{Prob(Omnibus):} &  0.000 & \\textbf{  Jarque-Bera (JB):  } &   69.607  \\\\\n",
       "\\textbf{Skew:}          & -0.948 & \\textbf{  Prob(JB):          } & 7.67e-16  \\\\\n",
       "\\textbf{Kurtosis:}      &  4.883 & \\textbf{  Cond. No.          } &     5.07  \\\\\n",
       "\\bottomrule\n",
       "\\end{tabular}\n",
       "%\\caption{OLS Regression Results}\n",
       "\\end{center}\n",
       "\n",
       "Notes: \\newline\n",
       " [1] Standard Errors assume that the covariance matrix of the errors is correctly specified."
      ],
      "text/plain": [
       "<class 'statsmodels.iolib.summary.Summary'>\n",
       "\"\"\"\n",
       "                            OLS Regression Results                            \n",
       "==============================================================================\n",
       "Dep. Variable:                   Rate   R-squared:                       0.087\n",
       "Model:                            OLS   Adj. R-squared:                  0.079\n",
       "Method:                 Least Squares   F-statistic:                     10.97\n",
       "Date:                Fri, 29 Mar 2024   Prob (F-statistic):           2.81e-05\n",
       "Time:                        16:25:09   Log-Likelihood:                -366.74\n",
       "No. Observations:                 234   AIC:                             739.5\n",
       "Df Residuals:                     231   BIC:                             749.8\n",
       "Df Model:                           2                                         \n",
       "Covariance Type:            nonrobust                                         \n",
       "========================================================================================\n",
       "                           coef    std err          t      P>|t|      [0.025      0.975]\n",
       "----------------------------------------------------------------------------------------\n",
       "Intercept                7.1366      0.182     39.143      0.000       6.777       7.496\n",
       "Violence[T.Moderate]    -0.2781      0.215     -1.295      0.197      -0.701       0.145\n",
       "Violence[T.Severe]      -0.9113      0.221     -4.121      0.000      -1.347      -0.476\n",
       "==============================================================================\n",
       "Omnibus:                       41.027   Durbin-Watson:                   2.176\n",
       "Prob(Omnibus):                  0.000   Jarque-Bera (JB):               69.607\n",
       "Skew:                          -0.948   Prob(JB):                     7.67e-16\n",
       "Kurtosis:                       4.883   Cond. No.                         5.07\n",
       "==============================================================================\n",
       "\n",
       "Notes:\n",
       "[1] Standard Errors assume that the covariance matrix of the errors is correctly specified.\n",
       "\"\"\""
      ]
     },
     "execution_count": 18,
     "metadata": {},
     "output_type": "execute_result"
    }
   ],
   "source": [
    "model_violence = smf.ols(formula='Rate~Violence', data=df_train).fit()\n",
    "model_violence.summary()"
   ]
  },
  {
   "cell_type": "code",
   "execution_count": 19,
   "metadata": {},
   "outputs": [
    {
     "data": {
      "text/html": [
       "<table class=\"simpletable\">\n",
       "<caption>OLS Regression Results</caption>\n",
       "<tr>\n",
       "  <th>Dep. Variable:</th>          <td>Rate</td>       <th>  R-squared:         </th> <td>   0.043</td>\n",
       "</tr>\n",
       "<tr>\n",
       "  <th>Model:</th>                   <td>OLS</td>       <th>  Adj. R-squared:    </th> <td>   0.035</td>\n",
       "</tr>\n",
       "<tr>\n",
       "  <th>Method:</th>             <td>Least Squares</td>  <th>  F-statistic:       </th> <td>   5.227</td>\n",
       "</tr>\n",
       "<tr>\n",
       "  <th>Date:</th>             <td>Fri, 29 Mar 2024</td> <th>  Prob (F-statistic):</th>  <td>0.00602</td>\n",
       "</tr>\n",
       "<tr>\n",
       "  <th>Time:</th>                 <td>16:25:09</td>     <th>  Log-Likelihood:    </th> <td> -372.18</td>\n",
       "</tr>\n",
       "<tr>\n",
       "  <th>No. Observations:</th>      <td>   234</td>      <th>  AIC:               </th> <td>   750.4</td>\n",
       "</tr>\n",
       "<tr>\n",
       "  <th>Df Residuals:</th>          <td>   231</td>      <th>  BIC:               </th> <td>   760.7</td>\n",
       "</tr>\n",
       "<tr>\n",
       "  <th>Df Model:</th>              <td>     2</td>      <th>                     </th>     <td> </td>   \n",
       "</tr>\n",
       "<tr>\n",
       "  <th>Covariance Type:</th>      <td>nonrobust</td>    <th>                     </th>     <td> </td>   \n",
       "</tr>\n",
       "</table>\n",
       "<table class=\"simpletable\">\n",
       "<tr>\n",
       "            <td></td>               <th>coef</th>     <th>std err</th>      <th>t</th>      <th>P>|t|</th>  <th>[0.025</th>    <th>0.975]</th>  \n",
       "</tr>\n",
       "<tr>\n",
       "  <th>Intercept</th>             <td>    6.9279</td> <td>    0.129</td> <td>   53.770</td> <td> 0.000</td> <td>    6.674</td> <td>    7.182</td>\n",
       "</tr>\n",
       "<tr>\n",
       "  <th>Profanity[T.Moderate]</th> <td>   -0.2675</td> <td>    0.175</td> <td>   -1.526</td> <td> 0.128</td> <td>   -0.613</td> <td>    0.078</td>\n",
       "</tr>\n",
       "<tr>\n",
       "  <th>Profanity[T.Severe]</th>   <td>   -0.7002</td> <td>    0.217</td> <td>   -3.231</td> <td> 0.001</td> <td>   -1.127</td> <td>   -0.273</td>\n",
       "</tr>\n",
       "</table>\n",
       "<table class=\"simpletable\">\n",
       "<tr>\n",
       "  <th>Omnibus:</th>       <td>38.968</td> <th>  Durbin-Watson:     </th> <td>   2.277</td>\n",
       "</tr>\n",
       "<tr>\n",
       "  <th>Prob(Omnibus):</th> <td> 0.000</td> <th>  Jarque-Bera (JB):  </th> <td>  59.976</td>\n",
       "</tr>\n",
       "<tr>\n",
       "  <th>Skew:</th>          <td>-0.956</td> <th>  Prob(JB):          </th> <td>9.47e-14</td>\n",
       "</tr>\n",
       "<tr>\n",
       "  <th>Kurtosis:</th>      <td> 4.580</td> <th>  Cond. No.          </th> <td>    3.74</td>\n",
       "</tr>\n",
       "</table><br/><br/>Notes:<br/>[1] Standard Errors assume that the covariance matrix of the errors is correctly specified."
      ],
      "text/latex": [
       "\\begin{center}\n",
       "\\begin{tabular}{lclc}\n",
       "\\toprule\n",
       "\\textbf{Dep. Variable:}        &       Rate       & \\textbf{  R-squared:         } &     0.043   \\\\\n",
       "\\textbf{Model:}                &       OLS        & \\textbf{  Adj. R-squared:    } &     0.035   \\\\\n",
       "\\textbf{Method:}               &  Least Squares   & \\textbf{  F-statistic:       } &     5.227   \\\\\n",
       "\\textbf{Date:}                 & Fri, 29 Mar 2024 & \\textbf{  Prob (F-statistic):} &  0.00602    \\\\\n",
       "\\textbf{Time:}                 &     16:25:09     & \\textbf{  Log-Likelihood:    } &   -372.18   \\\\\n",
       "\\textbf{No. Observations:}     &         234      & \\textbf{  AIC:               } &     750.4   \\\\\n",
       "\\textbf{Df Residuals:}         &         231      & \\textbf{  BIC:               } &     760.7   \\\\\n",
       "\\textbf{Df Model:}             &           2      & \\textbf{                     } &             \\\\\n",
       "\\textbf{Covariance Type:}      &    nonrobust     & \\textbf{                     } &             \\\\\n",
       "\\bottomrule\n",
       "\\end{tabular}\n",
       "\\begin{tabular}{lcccccc}\n",
       "                               & \\textbf{coef} & \\textbf{std err} & \\textbf{t} & \\textbf{P$> |$t$|$} & \\textbf{[0.025} & \\textbf{0.975]}  \\\\\n",
       "\\midrule\n",
       "\\textbf{Intercept}             &       6.9279  &        0.129     &    53.770  &         0.000        &        6.674    &        7.182     \\\\\n",
       "\\textbf{Profanity[T.Moderate]} &      -0.2675  &        0.175     &    -1.526  &         0.128        &       -0.613    &        0.078     \\\\\n",
       "\\textbf{Profanity[T.Severe]}   &      -0.7002  &        0.217     &    -3.231  &         0.001        &       -1.127    &       -0.273     \\\\\n",
       "\\bottomrule\n",
       "\\end{tabular}\n",
       "\\begin{tabular}{lclc}\n",
       "\\textbf{Omnibus:}       & 38.968 & \\textbf{  Durbin-Watson:     } &    2.277  \\\\\n",
       "\\textbf{Prob(Omnibus):} &  0.000 & \\textbf{  Jarque-Bera (JB):  } &   59.976  \\\\\n",
       "\\textbf{Skew:}          & -0.956 & \\textbf{  Prob(JB):          } & 9.47e-14  \\\\\n",
       "\\textbf{Kurtosis:}      &  4.580 & \\textbf{  Cond. No.          } &     3.74  \\\\\n",
       "\\bottomrule\n",
       "\\end{tabular}\n",
       "%\\caption{OLS Regression Results}\n",
       "\\end{center}\n",
       "\n",
       "Notes: \\newline\n",
       " [1] Standard Errors assume that the covariance matrix of the errors is correctly specified."
      ],
      "text/plain": [
       "<class 'statsmodels.iolib.summary.Summary'>\n",
       "\"\"\"\n",
       "                            OLS Regression Results                            \n",
       "==============================================================================\n",
       "Dep. Variable:                   Rate   R-squared:                       0.043\n",
       "Model:                            OLS   Adj. R-squared:                  0.035\n",
       "Method:                 Least Squares   F-statistic:                     5.227\n",
       "Date:                Fri, 29 Mar 2024   Prob (F-statistic):            0.00602\n",
       "Time:                        16:25:09   Log-Likelihood:                -372.18\n",
       "No. Observations:                 234   AIC:                             750.4\n",
       "Df Residuals:                     231   BIC:                             760.7\n",
       "Df Model:                           2                                         \n",
       "Covariance Type:            nonrobust                                         \n",
       "=========================================================================================\n",
       "                            coef    std err          t      P>|t|      [0.025      0.975]\n",
       "-----------------------------------------------------------------------------------------\n",
       "Intercept                 6.9279      0.129     53.770      0.000       6.674       7.182\n",
       "Profanity[T.Moderate]    -0.2675      0.175     -1.526      0.128      -0.613       0.078\n",
       "Profanity[T.Severe]      -0.7002      0.217     -3.231      0.001      -1.127      -0.273\n",
       "==============================================================================\n",
       "Omnibus:                       38.968   Durbin-Watson:                   2.277\n",
       "Prob(Omnibus):                  0.000   Jarque-Bera (JB):               59.976\n",
       "Skew:                          -0.956   Prob(JB):                     9.47e-14\n",
       "Kurtosis:                       4.580   Cond. No.                         3.74\n",
       "==============================================================================\n",
       "\n",
       "Notes:\n",
       "[1] Standard Errors assume that the covariance matrix of the errors is correctly specified.\n",
       "\"\"\""
      ]
     },
     "execution_count": 19,
     "metadata": {},
     "output_type": "execute_result"
    }
   ],
   "source": [
    "model_profanity = smf.ols(formula='Rate~Profanity', data=df_train).fit()\n",
    "model_profanity.summary()"
   ]
  },
  {
   "cell_type": "code",
   "execution_count": 20,
   "metadata": {},
   "outputs": [
    {
     "data": {
      "text/html": [
       "<table class=\"simpletable\">\n",
       "<caption>OLS Regression Results</caption>\n",
       "<tr>\n",
       "  <th>Dep. Variable:</th>          <td>Rate</td>       <th>  R-squared:         </th> <td>   0.109</td>\n",
       "</tr>\n",
       "<tr>\n",
       "  <th>Model:</th>                   <td>OLS</td>       <th>  Adj. R-squared:    </th> <td>   0.101</td>\n",
       "</tr>\n",
       "<tr>\n",
       "  <th>Method:</th>             <td>Least Squares</td>  <th>  F-statistic:       </th> <td>   14.14</td>\n",
       "</tr>\n",
       "<tr>\n",
       "  <th>Date:</th>             <td>Fri, 29 Mar 2024</td> <th>  Prob (F-statistic):</th> <td>1.60e-06</td>\n",
       "</tr>\n",
       "<tr>\n",
       "  <th>Time:</th>                 <td>16:25:09</td>     <th>  Log-Likelihood:    </th> <td> -363.84</td>\n",
       "</tr>\n",
       "<tr>\n",
       "  <th>No. Observations:</th>      <td>   234</td>      <th>  AIC:               </th> <td>   733.7</td>\n",
       "</tr>\n",
       "<tr>\n",
       "  <th>Df Residuals:</th>          <td>   231</td>      <th>  BIC:               </th> <td>   744.0</td>\n",
       "</tr>\n",
       "<tr>\n",
       "  <th>Df Model:</th>              <td>     2</td>      <th>                     </th>     <td> </td>   \n",
       "</tr>\n",
       "<tr>\n",
       "  <th>Covariance Type:</th>      <td>nonrobust</td>    <th>                     </th>     <td> </td>   \n",
       "</tr>\n",
       "</table>\n",
       "<table class=\"simpletable\">\n",
       "<tr>\n",
       "           <td></td>              <th>coef</th>     <th>std err</th>      <th>t</th>      <th>P>|t|</th>  <th>[0.025</th>    <th>0.975]</th>  \n",
       "</tr>\n",
       "<tr>\n",
       "  <th>Intercept</th>           <td>    6.7288</td> <td>    0.087</td> <td>   77.640</td> <td> 0.000</td> <td>    6.558</td> <td>    6.900</td>\n",
       "</tr>\n",
       "<tr>\n",
       "  <th>Alcohol[T.Moderate]</th> <td>    0.1286</td> <td>    0.189</td> <td>    0.680</td> <td> 0.497</td> <td>   -0.244</td> <td>    0.501</td>\n",
       "</tr>\n",
       "<tr>\n",
       "  <th>Alcohol[T.Severe]</th>   <td>   -1.9388</td> <td>    0.375</td> <td>   -5.173</td> <td> 0.000</td> <td>   -2.677</td> <td>   -1.200</td>\n",
       "</tr>\n",
       "</table>\n",
       "<table class=\"simpletable\">\n",
       "<tr>\n",
       "  <th>Omnibus:</th>       <td>28.447</td> <th>  Durbin-Watson:     </th> <td>   2.139</td>\n",
       "</tr>\n",
       "<tr>\n",
       "  <th>Prob(Omnibus):</th> <td> 0.000</td> <th>  Jarque-Bera (JB):  </th> <td>  36.911</td>\n",
       "</tr>\n",
       "<tr>\n",
       "  <th>Skew:</th>          <td>-0.813</td> <th>  Prob(JB):          </th> <td>9.66e-09</td>\n",
       "</tr>\n",
       "<tr>\n",
       "  <th>Kurtosis:</th>      <td> 4.067</td> <th>  Cond. No.          </th> <td>    5.11</td>\n",
       "</tr>\n",
       "</table><br/><br/>Notes:<br/>[1] Standard Errors assume that the covariance matrix of the errors is correctly specified."
      ],
      "text/latex": [
       "\\begin{center}\n",
       "\\begin{tabular}{lclc}\n",
       "\\toprule\n",
       "\\textbf{Dep. Variable:}      &       Rate       & \\textbf{  R-squared:         } &     0.109   \\\\\n",
       "\\textbf{Model:}              &       OLS        & \\textbf{  Adj. R-squared:    } &     0.101   \\\\\n",
       "\\textbf{Method:}             &  Least Squares   & \\textbf{  F-statistic:       } &     14.14   \\\\\n",
       "\\textbf{Date:}               & Fri, 29 Mar 2024 & \\textbf{  Prob (F-statistic):} &  1.60e-06   \\\\\n",
       "\\textbf{Time:}               &     16:25:09     & \\textbf{  Log-Likelihood:    } &   -363.84   \\\\\n",
       "\\textbf{No. Observations:}   &         234      & \\textbf{  AIC:               } &     733.7   \\\\\n",
       "\\textbf{Df Residuals:}       &         231      & \\textbf{  BIC:               } &     744.0   \\\\\n",
       "\\textbf{Df Model:}           &           2      & \\textbf{                     } &             \\\\\n",
       "\\textbf{Covariance Type:}    &    nonrobust     & \\textbf{                     } &             \\\\\n",
       "\\bottomrule\n",
       "\\end{tabular}\n",
       "\\begin{tabular}{lcccccc}\n",
       "                             & \\textbf{coef} & \\textbf{std err} & \\textbf{t} & \\textbf{P$> |$t$|$} & \\textbf{[0.025} & \\textbf{0.975]}  \\\\\n",
       "\\midrule\n",
       "\\textbf{Intercept}           &       6.7288  &        0.087     &    77.640  &         0.000        &        6.558    &        6.900     \\\\\n",
       "\\textbf{Alcohol[T.Moderate]} &       0.1286  &        0.189     &     0.680  &         0.497        &       -0.244    &        0.501     \\\\\n",
       "\\textbf{Alcohol[T.Severe]}   &      -1.9388  &        0.375     &    -5.173  &         0.000        &       -2.677    &       -1.200     \\\\\n",
       "\\bottomrule\n",
       "\\end{tabular}\n",
       "\\begin{tabular}{lclc}\n",
       "\\textbf{Omnibus:}       & 28.447 & \\textbf{  Durbin-Watson:     } &    2.139  \\\\\n",
       "\\textbf{Prob(Omnibus):} &  0.000 & \\textbf{  Jarque-Bera (JB):  } &   36.911  \\\\\n",
       "\\textbf{Skew:}          & -0.813 & \\textbf{  Prob(JB):          } & 9.66e-09  \\\\\n",
       "\\textbf{Kurtosis:}      &  4.067 & \\textbf{  Cond. No.          } &     5.11  \\\\\n",
       "\\bottomrule\n",
       "\\end{tabular}\n",
       "%\\caption{OLS Regression Results}\n",
       "\\end{center}\n",
       "\n",
       "Notes: \\newline\n",
       " [1] Standard Errors assume that the covariance matrix of the errors is correctly specified."
      ],
      "text/plain": [
       "<class 'statsmodels.iolib.summary.Summary'>\n",
       "\"\"\"\n",
       "                            OLS Regression Results                            \n",
       "==============================================================================\n",
       "Dep. Variable:                   Rate   R-squared:                       0.109\n",
       "Model:                            OLS   Adj. R-squared:                  0.101\n",
       "Method:                 Least Squares   F-statistic:                     14.14\n",
       "Date:                Fri, 29 Mar 2024   Prob (F-statistic):           1.60e-06\n",
       "Time:                        16:25:09   Log-Likelihood:                -363.84\n",
       "No. Observations:                 234   AIC:                             733.7\n",
       "Df Residuals:                     231   BIC:                             744.0\n",
       "Df Model:                           2                                         \n",
       "Covariance Type:            nonrobust                                         \n",
       "=======================================================================================\n",
       "                          coef    std err          t      P>|t|      [0.025      0.975]\n",
       "---------------------------------------------------------------------------------------\n",
       "Intercept               6.7288      0.087     77.640      0.000       6.558       6.900\n",
       "Alcohol[T.Moderate]     0.1286      0.189      0.680      0.497      -0.244       0.501\n",
       "Alcohol[T.Severe]      -1.9388      0.375     -5.173      0.000      -2.677      -1.200\n",
       "==============================================================================\n",
       "Omnibus:                       28.447   Durbin-Watson:                   2.139\n",
       "Prob(Omnibus):                  0.000   Jarque-Bera (JB):               36.911\n",
       "Skew:                          -0.813   Prob(JB):                     9.66e-09\n",
       "Kurtosis:                       4.067   Cond. No.                         5.11\n",
       "==============================================================================\n",
       "\n",
       "Notes:\n",
       "[1] Standard Errors assume that the covariance matrix of the errors is correctly specified.\n",
       "\"\"\""
      ]
     },
     "execution_count": 20,
     "metadata": {},
     "output_type": "execute_result"
    }
   ],
   "source": [
    "model_alcohol = smf.ols(formula='Rate~Alcohol', data=df_train).fit()\n",
    "model_alcohol.summary()"
   ]
  },
  {
   "cell_type": "code",
   "execution_count": 21,
   "metadata": {},
   "outputs": [
    {
     "data": {
      "text/html": [
       "<table class=\"simpletable\">\n",
       "<caption>OLS Regression Results</caption>\n",
       "<tr>\n",
       "  <th>Dep. Variable:</th>          <td>Rate</td>       <th>  R-squared:         </th> <td>   0.017</td>\n",
       "</tr>\n",
       "<tr>\n",
       "  <th>Model:</th>                   <td>OLS</td>       <th>  Adj. R-squared:    </th> <td>   0.008</td>\n",
       "</tr>\n",
       "<tr>\n",
       "  <th>Method:</th>             <td>Least Squares</td>  <th>  F-statistic:       </th> <td>   1.968</td>\n",
       "</tr>\n",
       "<tr>\n",
       "  <th>Date:</th>             <td>Fri, 29 Mar 2024</td> <th>  Prob (F-statistic):</th>  <td> 0.142</td> \n",
       "</tr>\n",
       "<tr>\n",
       "  <th>Time:</th>                 <td>16:25:09</td>     <th>  Log-Likelihood:    </th> <td> -375.38</td>\n",
       "</tr>\n",
       "<tr>\n",
       "  <th>No. Observations:</th>      <td>   234</td>      <th>  AIC:               </th> <td>   756.8</td>\n",
       "</tr>\n",
       "<tr>\n",
       "  <th>Df Residuals:</th>          <td>   231</td>      <th>  BIC:               </th> <td>   767.1</td>\n",
       "</tr>\n",
       "<tr>\n",
       "  <th>Df Model:</th>              <td>     2</td>      <th>                     </th>     <td> </td>   \n",
       "</tr>\n",
       "<tr>\n",
       "  <th>Covariance Type:</th>      <td>nonrobust</td>    <th>                     </th>     <td> </td>   \n",
       "</tr>\n",
       "</table>\n",
       "<table class=\"simpletable\">\n",
       "<tr>\n",
       "             <td></td>                <th>coef</th>     <th>std err</th>      <th>t</th>      <th>P>|t|</th>  <th>[0.025</th>    <th>0.975]</th>  \n",
       "</tr>\n",
       "<tr>\n",
       "  <th>Intercept</th>               <td>    6.8944</td> <td>    0.165</td> <td>   41.826</td> <td> 0.000</td> <td>    6.570</td> <td>    7.219</td>\n",
       "</tr>\n",
       "<tr>\n",
       "  <th>Frightening[T.Moderate]</th> <td>   -0.2165</td> <td>    0.197</td> <td>   -1.100</td> <td> 0.272</td> <td>   -0.604</td> <td>    0.171</td>\n",
       "</tr>\n",
       "<tr>\n",
       "  <th>Frightening[T.Severe]</th>   <td>   -0.4643</td> <td>    0.234</td> <td>   -1.982</td> <td> 0.049</td> <td>   -0.926</td> <td>   -0.003</td>\n",
       "</tr>\n",
       "</table>\n",
       "<table class=\"simpletable\">\n",
       "<tr>\n",
       "  <th>Omnibus:</th>       <td>43.055</td> <th>  Durbin-Watson:     </th> <td>   2.240</td>\n",
       "</tr>\n",
       "<tr>\n",
       "  <th>Prob(Omnibus):</th> <td> 0.000</td> <th>  Jarque-Bera (JB):  </th> <td>  70.164</td>\n",
       "</tr>\n",
       "<tr>\n",
       "  <th>Skew:</th>          <td>-1.014</td> <th>  Prob(JB):          </th> <td>5.81e-16</td>\n",
       "</tr>\n",
       "<tr>\n",
       "  <th>Kurtosis:</th>      <td> 4.755</td> <th>  Cond. No.          </th> <td>    4.62</td>\n",
       "</tr>\n",
       "</table><br/><br/>Notes:<br/>[1] Standard Errors assume that the covariance matrix of the errors is correctly specified."
      ],
      "text/latex": [
       "\\begin{center}\n",
       "\\begin{tabular}{lclc}\n",
       "\\toprule\n",
       "\\textbf{Dep. Variable:}          &       Rate       & \\textbf{  R-squared:         } &     0.017   \\\\\n",
       "\\textbf{Model:}                  &       OLS        & \\textbf{  Adj. R-squared:    } &     0.008   \\\\\n",
       "\\textbf{Method:}                 &  Least Squares   & \\textbf{  F-statistic:       } &     1.968   \\\\\n",
       "\\textbf{Date:}                   & Fri, 29 Mar 2024 & \\textbf{  Prob (F-statistic):} &    0.142    \\\\\n",
       "\\textbf{Time:}                   &     16:25:09     & \\textbf{  Log-Likelihood:    } &   -375.38   \\\\\n",
       "\\textbf{No. Observations:}       &         234      & \\textbf{  AIC:               } &     756.8   \\\\\n",
       "\\textbf{Df Residuals:}           &         231      & \\textbf{  BIC:               } &     767.1   \\\\\n",
       "\\textbf{Df Model:}               &           2      & \\textbf{                     } &             \\\\\n",
       "\\textbf{Covariance Type:}        &    nonrobust     & \\textbf{                     } &             \\\\\n",
       "\\bottomrule\n",
       "\\end{tabular}\n",
       "\\begin{tabular}{lcccccc}\n",
       "                                 & \\textbf{coef} & \\textbf{std err} & \\textbf{t} & \\textbf{P$> |$t$|$} & \\textbf{[0.025} & \\textbf{0.975]}  \\\\\n",
       "\\midrule\n",
       "\\textbf{Intercept}               &       6.8944  &        0.165     &    41.826  &         0.000        &        6.570    &        7.219     \\\\\n",
       "\\textbf{Frightening[T.Moderate]} &      -0.2165  &        0.197     &    -1.100  &         0.272        &       -0.604    &        0.171     \\\\\n",
       "\\textbf{Frightening[T.Severe]}   &      -0.4643  &        0.234     &    -1.982  &         0.049        &       -0.926    &       -0.003     \\\\\n",
       "\\bottomrule\n",
       "\\end{tabular}\n",
       "\\begin{tabular}{lclc}\n",
       "\\textbf{Omnibus:}       & 43.055 & \\textbf{  Durbin-Watson:     } &    2.240  \\\\\n",
       "\\textbf{Prob(Omnibus):} &  0.000 & \\textbf{  Jarque-Bera (JB):  } &   70.164  \\\\\n",
       "\\textbf{Skew:}          & -1.014 & \\textbf{  Prob(JB):          } & 5.81e-16  \\\\\n",
       "\\textbf{Kurtosis:}      &  4.755 & \\textbf{  Cond. No.          } &     4.62  \\\\\n",
       "\\bottomrule\n",
       "\\end{tabular}\n",
       "%\\caption{OLS Regression Results}\n",
       "\\end{center}\n",
       "\n",
       "Notes: \\newline\n",
       " [1] Standard Errors assume that the covariance matrix of the errors is correctly specified."
      ],
      "text/plain": [
       "<class 'statsmodels.iolib.summary.Summary'>\n",
       "\"\"\"\n",
       "                            OLS Regression Results                            \n",
       "==============================================================================\n",
       "Dep. Variable:                   Rate   R-squared:                       0.017\n",
       "Model:                            OLS   Adj. R-squared:                  0.008\n",
       "Method:                 Least Squares   F-statistic:                     1.968\n",
       "Date:                Fri, 29 Mar 2024   Prob (F-statistic):              0.142\n",
       "Time:                        16:25:09   Log-Likelihood:                -375.38\n",
       "No. Observations:                 234   AIC:                             756.8\n",
       "Df Residuals:                     231   BIC:                             767.1\n",
       "Df Model:                           2                                         \n",
       "Covariance Type:            nonrobust                                         \n",
       "===========================================================================================\n",
       "                              coef    std err          t      P>|t|      [0.025      0.975]\n",
       "-------------------------------------------------------------------------------------------\n",
       "Intercept                   6.8944      0.165     41.826      0.000       6.570       7.219\n",
       "Frightening[T.Moderate]    -0.2165      0.197     -1.100      0.272      -0.604       0.171\n",
       "Frightening[T.Severe]      -0.4643      0.234     -1.982      0.049      -0.926      -0.003\n",
       "==============================================================================\n",
       "Omnibus:                       43.055   Durbin-Watson:                   2.240\n",
       "Prob(Omnibus):                  0.000   Jarque-Bera (JB):               70.164\n",
       "Skew:                          -1.014   Prob(JB):                     5.81e-16\n",
       "Kurtosis:                       4.755   Cond. No.                         4.62\n",
       "==============================================================================\n",
       "\n",
       "Notes:\n",
       "[1] Standard Errors assume that the covariance matrix of the errors is correctly specified.\n",
       "\"\"\""
      ]
     },
     "execution_count": 21,
     "metadata": {},
     "output_type": "execute_result"
    }
   ],
   "source": [
    "model_frightening = smf.ols(formula='Rate~Frightening', data=df_train).fit()\n",
    "model_frightening.summary()"
   ]
  },
  {
   "cell_type": "markdown",
   "metadata": {},
   "source": [
    "Nudity brings the least amount of predictive power as shown by its r-squared value of 0.011 which is smaller than the r-squared values of the other one variable regression models."
   ]
  },
  {
   "cell_type": "markdown",
   "metadata": {},
   "source": [
    "## 3. Exploring Overfitting Variables\n",
    "\n",
    "Next, we'd like to explore if the variable that you selected in 2.1.2 would lead to overfitting (if we decided to include all the other 4 explanatory variables). We'll consult with two methods that will help assess this: adjusted R^2 and the test R^2."
   ]
  },
  {
   "cell_type": "markdown",
   "metadata": {},
   "source": [
    "### 3.1. Full Model\n",
    "\n",
    "First fit the 'full model' which predicts `Rate`ing of `Sci-Fi` movies given the 5 content explanatory variables:\n",
    "* `Nudity`\n",
    "* `Violence`\n",
    "* `Profanity`\n",
    "* `Alcohol`\n",
    "* `Frightening`\n",
    "\n",
    "Then find the adjusted R^2 of this model."
   ]
  },
  {
   "cell_type": "code",
   "execution_count": 22,
   "metadata": {},
   "outputs": [
    {
     "data": {
      "text/plain": [
       "0.1682787161903565"
      ]
     },
     "execution_count": 22,
     "metadata": {},
     "output_type": "execute_result"
    }
   ],
   "source": [
    "full_model = smf.ols(formula='Rate~Nudity+Violence+Profanity+Alcohol+Frightening', data=df_train).fit()\n",
    "full_model.rsquared_adj"
   ]
  },
  {
   "cell_type": "markdown",
   "metadata": {},
   "source": [
    "### 3.2. Reduced Model\n",
    "\n",
    "Next fit the 'reduced model' which predicts `Rate`ing of `Sci-Fi` movies given the 5 content explanatory variables `excluding the variable that you selected in 2.1.2`.\n",
    "\n",
    "Then find the adjusted R^2 of this model."
   ]
  },
  {
   "cell_type": "code",
   "execution_count": 23,
   "metadata": {},
   "outputs": [
    {
     "data": {
      "text/plain": [
       "0.16662143678310015"
      ]
     },
     "execution_count": 23,
     "metadata": {},
     "output_type": "execute_result"
    }
   ],
   "source": [
    "reduced_model = smf.ols(formula='Rate~Frightening+Violence+Profanity+Alcohol',data=df_train).fit()\n",
    "reduced_model.rsquared_adj"
   ]
  },
  {
   "cell_type": "markdown",
   "metadata": {},
   "source": [
    "### 3.3. Parsimonous Model\n",
    "\n",
    "According to the adjusted R^2, is your full model or your reduced model more parsimonious?"
   ]
  },
  {
   "cell_type": "markdown",
   "metadata": {},
   "source": [
    "The full model is more parsimonious because its adjusted r-squared model is greater than the adjusted r-squared value of the reduced model."
   ]
  },
  {
   "cell_type": "markdown",
   "metadata": {},
   "source": [
    "### 3.4. Predictive Power\n",
    "\n",
    "According to the adjusted R^2, does the explanatory variable that you excluded in the reduced model bring \"enough\" predictive power to the model (in the presence of the other 4 explanatory variables)? Explain."
   ]
  },
  {
   "cell_type": "markdown",
   "metadata": {},
   "source": [
    "Yes, Nudity brings enough predictive power in the prescence of the other variables because the adjusted r-squared value increases when it is included in the model vs when it is not. If the adjusted r-squared had stayed the same or decreased then it would not have brought \"enough\" predictive power to the model."
   ]
  },
  {
   "cell_type": "markdown",
   "metadata": {},
   "source": [
    "### 3.5. Overfitting and Performance with New Datasets\n",
    "\n",
    "Does the adjusted R^2 suggest that we would be overfitting the model by including this variable and thus may have worse performance when prediting `Rate` for *new datasets*?"
   ]
  },
  {
   "cell_type": "markdown",
   "metadata": {},
   "source": [
    "Since the adjusted R^2 value decreased from the full model to the smaller model, including \"Nudity\" in the model would not be overfitting the model."
   ]
  },
  {
   "cell_type": "markdown",
   "metadata": {},
   "source": [
    "### 3.6. Test R^2\n",
    "\n",
    "Calculate the test R^2 of each of these two models."
   ]
  },
  {
   "cell_type": "code",
   "execution_count": 24,
   "metadata": {},
   "outputs": [
    {
     "data": {
      "text/plain": [
       "-0.05570031044930723"
      ]
     },
     "execution_count": 24,
     "metadata": {},
     "output_type": "execute_result"
    }
   ],
   "source": [
    "from sklearn.metrics import r2_score\n",
    "y_test = df_test['Rate']\n",
    "y_pred_test = full_model.predict(df_test)\n",
    "r2_score(y_test,y_pred_test)"
   ]
  },
  {
   "cell_type": "code",
   "execution_count": 25,
   "metadata": {},
   "outputs": [
    {
     "data": {
      "text/plain": [
       "-0.11792301566901031"
      ]
     },
     "execution_count": 25,
     "metadata": {},
     "output_type": "execute_result"
    }
   ],
   "source": [
    "y_test_b = df_test['Rate']\n",
    "y_pred_test_b = reduced_model.predict(df_test)\n",
    "r2_score(y_test_b,y_pred_test_b)"
   ]
  },
  {
   "cell_type": "markdown",
   "metadata": {},
   "source": [
    "### 3.7. Test R^2 Corroboration\n",
    "\n",
    "Which model (full vs. reduced) does the test R^2 suggest might perform better when predicting new datasets? Does this suggestion agree with what the adjusted R^2 suggested?"
   ]
  },
  {
   "cell_type": "markdown",
   "metadata": {},
   "source": [
    "The full model would be better at predicting new datasets because its test R^2 value is higher than the reduced model's test R^2 value."
   ]
  },
  {
   "cell_type": "markdown",
   "metadata": {},
   "source": [
    "### 3.8. Model Performance\n",
    "\n",
    "Would we expect either of these models to perform *well* when predicting `Rate` for *new datasets*? Explain."
   ]
  },
  {
   "cell_type": "markdown",
   "metadata": {},
   "source": [
    "No because their test dataset R^2 values were very low meaning that the model is not good at predicting the Rate of for datasets that don't fit like the training dataset."
   ]
  },
  {
   "cell_type": "markdown",
   "metadata": {},
   "source": [
    "## 4. Total Number of Candidate Models\n",
    "\n",
    "Given that we are considering using the following 5 explanatory variables in our linear regression model (without interaction terms), how many possible linear regression models could we make based on whether we decide to include or exclude each of these 5 variables?\n",
    "\n",
    "* `Nudity`\n",
    "* `Violence`\n",
    "* `Profanity`\n",
    "* `Alcohol`\n",
    "* `Frightening`"
   ]
  },
  {
   "cell_type": "code",
   "execution_count": 26,
   "metadata": {},
   "outputs": [
    {
     "data": {
      "text/plain": [
       "32"
      ]
     },
     "execution_count": 26,
     "metadata": {},
     "output_type": "execute_result"
    }
   ],
   "source": [
    "np.power(2,5)"
   ]
  },
  {
   "cell_type": "markdown",
   "metadata": {},
   "source": [
    "## 5. Backwards Elimination Algorithm\n",
    "\n",
    "Ideally, we'd like to find the linear regression model that gives us the highest adjusted R^2 value. Use a backwards elimination algorithm to try to find this linear regression model."
   ]
  },
  {
   "cell_type": "code",
   "execution_count": 27,
   "metadata": {},
   "outputs": [
    {
     "data": {
      "text/plain": [
       "0.1682787161903565"
      ]
     },
     "execution_count": 27,
     "metadata": {},
     "output_type": "execute_result"
    }
   ],
   "source": [
    "full_model.rsquared_adj"
   ]
  },
  {
   "cell_type": "code",
   "execution_count": 37,
   "metadata": {},
   "outputs": [
    {
     "data": {
      "text/plain": [
       "0.16662143678310015"
      ]
     },
     "execution_count": 37,
     "metadata": {},
     "output_type": "execute_result"
    }
   ],
   "source": [
    "test_model_nudity = smf.ols(formula='Rate~Violence+Profanity+Alcohol+Frightening', data=df_train).fit()\n",
    "test_model_nudity.rsquared_adj"
   ]
  },
  {
   "cell_type": "code",
   "execution_count": 38,
   "metadata": {},
   "outputs": [
    {
     "data": {
      "text/plain": [
       "0.1278889520989147"
      ]
     },
     "execution_count": 38,
     "metadata": {},
     "output_type": "execute_result"
    }
   ],
   "source": [
    "test_model_violence = smf.ols(formula='Rate~Nudity+Profanity+Alcohol+Frightening', data=df_train).fit()\n",
    "test_model_violence.rsquared_adj"
   ]
  },
  {
   "cell_type": "code",
   "execution_count": 30,
   "metadata": {},
   "outputs": [
    {
     "data": {
      "text/plain": [
       "0.16999847883112107"
      ]
     },
     "execution_count": 30,
     "metadata": {},
     "output_type": "execute_result"
    }
   ],
   "source": [
    "test_model_profanity = smf.ols(formula='Rate~Violence+Nudity+Alcohol+Frightening', data=df_train).fit()\n",
    "test_model_profanity.rsquared_adj"
   ]
  },
  {
   "cell_type": "code",
   "execution_count": 31,
   "metadata": {},
   "outputs": [
    {
     "data": {
      "text/plain": [
       "0.07011947323013823"
      ]
     },
     "execution_count": 31,
     "metadata": {},
     "output_type": "execute_result"
    }
   ],
   "source": [
    "test_model_alcohol = smf.ols(formula='Rate~Violence+Profanity+Nudity+Frightening',data=df_train).fit()\n",
    "test_model_alcohol.rsquared_adj"
   ]
  },
  {
   "cell_type": "code",
   "execution_count": 32,
   "metadata": {},
   "outputs": [
    {
     "data": {
      "text/plain": [
       "0.1640162913451565"
      ]
     },
     "execution_count": 32,
     "metadata": {},
     "output_type": "execute_result"
    }
   ],
   "source": [
    "test_model_frightening = smf.ols(formula='Rate~Violence+Profanity+Alcohol+Nudity', data=df_train).fit()\n",
    "test_model_frightening.rsquared_adj"
   ]
  },
  {
   "cell_type": "markdown",
   "metadata": {},
   "source": [
    "## 6. Interpreting the Backwards Elimination Algorithm Results\n",
    "\n",
    "### 6.1. Best Adjusted R^2 Guarantees\n",
    "\n",
    "Is the final model returned by the backwards elimination algorithm guaranteed to return the linear regression model that has the *highest possible adjusted R^2* out of all possible linear regression models that we could make with our 5 content explanatory variables?"
   ]
  },
  {
   "cell_type": "markdown",
   "metadata": {},
   "source": [
    "No, but it is guaranteed to return the model with at most one missing explanatory variable that has the highest possible adjusted R^2 value. Checking all 2^5 (32) models would guarantee that the highest possible adjusted R^2 model is found."
   ]
  },
  {
   "cell_type": "markdown",
   "metadata": {},
   "source": [
    "### 6.2. Most Likely Overfitter\n",
    "\n",
    "Of the 5 content explanatory variable that we considered, which one was the most likely to lead to overfitting (if we were to keep all of the other 4 explanatory variables)? Explain."
   ]
  },
  {
   "cell_type": "markdown",
   "metadata": {},
   "source": [
    "Keeping \"Profanity\" is most likely to cause overfitting because the adjusted R^2 value of the model excluding it was higher than the adjusted R^2 value of the full model."
   ]
  },
  {
   "cell_type": "markdown",
   "metadata": {},
   "source": [
    "### 6.3. Adjusted R^2 Suggestions\n",
    "\n",
    "Let's now consider the adjusted R^2 of 3 candidate models that we've explored in this assignment\n",
    "* the full model (3.1)\n",
    "* the reduced model (3.2)\n",
    "* the final model from the backwards elimination algorithm (5)\n",
    "\n",
    "According to the adjusted R^2, which model is suggested to have the *best* prediction performance for *new datasets*?\n",
    "\n"
   ]
  },
  {
   "cell_type": "code",
   "execution_count": 33,
   "metadata": {},
   "outputs": [
    {
     "name": "stdout",
     "output_type": "stream",
     "text": [
      "0.1682787161903565\n",
      "0.16662143678310015\n",
      "0.16999847883112107\n"
     ]
    }
   ],
   "source": [
    "print(full_model.rsquared_adj)\n",
    "print(reduced_model.rsquared_adj)\n",
    "print(test_model_profanity.rsquared_adj)"
   ]
  },
  {
   "cell_type": "markdown",
   "metadata": {},
   "source": [
    "The final model from the backwards elimination algorithm (excluding \"Profanity\") would have the best prediction performance for new datasets since its adjusted R^2 value is the highest among the 3 models."
   ]
  },
  {
   "cell_type": "markdown",
   "metadata": {},
   "source": [
    "### 6.4. Test R^2\n",
    "\n",
    "Calculate the test R^2 of the final model returned by your backwards elimination algorithm.\n"
   ]
  },
  {
   "cell_type": "code",
   "execution_count": 34,
   "metadata": {},
   "outputs": [
    {
     "data": {
      "text/plain": [
       "-0.06687467492262544"
      ]
     },
     "execution_count": 34,
     "metadata": {},
     "output_type": "execute_result"
    }
   ],
   "source": [
    "y_pred_bea = df_test['Rate']\n",
    "y_pred_test_bea = test_model_profanity.predict(df_test)\n",
    "r2_score(y_pred_bea,y_pred_test_bea)"
   ]
  },
  {
   "cell_type": "markdown",
   "metadata": {},
   "source": [
    "### 6.5. Test R^2 Suggestions\n",
    "\n",
    "Let's now consider the test R^2 of 3 candidate models that we've explored in this assignment\n",
    "* the full model (3.6)\n",
    "* the reduced model (3.6)\n",
    "* the final model from the backwards elimination algorithm (6.3)\n",
    "\n",
    "According to the test R^2, which model is suggested to have the *best* prediction performance for *new datasets*?"
   ]
  },
  {
   "cell_type": "code",
   "execution_count": 35,
   "metadata": {},
   "outputs": [],
   "source": [
    "#-0.06687467492262544 vs -0.11792301566901031 vs -0.05570031044930723"
   ]
  },
  {
   "cell_type": "markdown",
   "metadata": {},
   "source": [
    "The full model would have the best prediction performance for new datasets because its test R^2 value is the greatest among the three values."
   ]
  },
  {
   "cell_type": "markdown",
   "metadata": {},
   "source": [
    "## 7. Conceptual Question\n",
    "\n",
    "Suppose we wanted to predict `income` given the following two possible explanatory variables:\n",
    "* `college_year`: freshmen, sophomore, junior, senior\n",
    "* `political_affiliation`: Independent, Republican, Democrat\n",
    "\n",
    "We fit the following three candidate models, each of which had the following training dataset R^2 values.\n",
    "\n",
    "**Full Model (R^2=0.5)**\n",
    "Predicts `income` with:\n",
    "* `college_year`: freshmen, sophomore, junior, senior\n",
    "* `political_affiliation`: Independent, Republican, Democrat\n",
    "\n",
    "\n",
    "**Reduced Model 1 (R^2=0.43)**\n",
    "Predicts `income` with:\n",
    "* `college_year`: freshmen, sophomore, junior, senior\n",
    "\n",
    "**Reduced Model 2 (R^2=0.43)**\n",
    "Predicts `income` with:\n",
    "* `political_affiliation`: Independent, Republican, Democrat\n",
    "\n",
    "Will the `Reduced Model 1` or the `Reduced Model 2` have a higher adjusted R^2 value? Explain."
   ]
  },
  {
   "cell_type": "markdown",
   "metadata": {},
   "source": [
    "Reduced Model 2 because the adjusted R^2 value decreases the more slopes there are in the linear regression model, since Model 1 has 3 slopes and Model 2 has 2 slopes Model 2 will have a higher adjusted R^2 value."
   ]
  }
 ],
 "metadata": {
  "kernelspec": {
   "display_name": "Python 3 (ipykernel)",
   "language": "python",
   "name": "python3"
  },
  "language_info": {
   "codemirror_mode": {
    "name": "ipython",
    "version": 3
   },
   "file_extension": ".py",
   "mimetype": "text/x-python",
   "name": "python",
   "nbconvert_exporter": "python",
   "pygments_lexer": "ipython3",
   "version": "3.11.8"
  }
 },
 "nbformat": 4,
 "nbformat_minor": 2
}
