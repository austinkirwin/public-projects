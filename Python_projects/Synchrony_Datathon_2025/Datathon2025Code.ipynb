{
  "nbformat": 4,
  "nbformat_minor": 0,
  "metadata": {
    "colab": {
      "provenance": [],
      "authorship_tag": "ABX9TyPTtqhOVKbM0bIXI4WJ9jng",
      "include_colab_link": true
    },
    "kernelspec": {
      "name": "python3",
      "display_name": "Python 3"
    },
    "language_info": {
      "name": "python"
    }
  },
  "cells": [
    {
      "cell_type": "markdown",
      "metadata": {
        "id": "view-in-github",
        "colab_type": "text"
      },
      "source": [
        "<a href=\"https://colab.research.google.com/github/austinkirwin/public-projects/blob/main/Python_projects/Synchrony_Datathon_2025/Datathon2025Code.ipynb\" target=\"_parent\"><img src=\"https://colab.research.google.com/assets/colab-badge.svg\" alt=\"Open In Colab\"/></a>"
      ]
    },
    {
      "cell_type": "markdown",
      "source": [
        "# 2025 Datathon Code Submission\n",
        "## Contributors: Austin Kirwin"
      ],
      "metadata": {
        "id": "USYWSK_U-Ilm"
      }
    },
    {
      "cell_type": "markdown",
      "source": [
        "## Imports"
      ],
      "metadata": {
        "id": "Ar0neeji-OFM"
      }
    },
    {
      "cell_type": "code",
      "execution_count": null,
      "metadata": {
        "id": "paWowQ1Q6NVo"
      },
      "outputs": [],
      "source": [
        "import tensorflow as tf\n",
        "import pandas as pd\n",
        "import matplotlib.pyplot as plt\n",
        "import numpy as np\n",
        "from sklearn.compose import make_column_transformer\n",
        "from sklearn.preprocessing import MinMaxScaler, OneHotEncoder\n",
        "from sklearn.model_selection import train_test_split\n",
        "import seaborn as sns\n",
        "import statsmodels.formula.api as smf\n",
        "from sklearn.metrics import r2_score\n",
        "from sklearn.linear_model import LinearRegression\n",
        "from sklearn.preprocessing import StandardScaler"
      ]
    },
    {
      "cell_type": "markdown",
      "source": [
        "### Data"
      ],
      "metadata": {
        "id": "jrgXUf69AmBj"
      }
    },
    {
      "cell_type": "code",
      "source": [
        "account_dim_df = pd.read_csv(\"https://github.com/austinkirwin/public-projects/blob/main/Python_projects/Synchrony_Datathon_2025/account_dim_20250325.csv\")\n",
        "fraud_claim_case_df = pd.read_csv(\"https://github.com/austinkirwin/public-projects/blob/main/Python_projects/Synchrony_Datathon_2025/fraud_claim_case_20250325.csv\")\n",
        "fraud_claim_train_df = pd.read_csv(\"https://github.com/austinkirwin/public-projects/blob/main/Python_projects/Synchrony_Datathon_2025/fraud_claim_tran_20250325.csv\")\n",
        "rams_batch_cur_df = pd.read_csv(\"https://github.com/austinkirwin/public-projects/blob/main/Python_projects/Synchrony_Datathon_2025/rams_batch_cur_20250325.csv\")\n",
        "syf_id_df = pd.read_csv(\"https://github.com/austinkirwin/public-projects/blob/main/Python_projects/Synchrony_Datathon_2025/rams_batch_cur_20250325.csv\")"
      ],
      "metadata": {
        "id": "SX2Y2KD9_NxN",
        "outputId": "8d296648-2150-4da0-a6cf-b2902c5d2f27",
        "colab": {
          "base_uri": "https://localhost:8080/",
          "height": 211
        }
      },
      "execution_count": 1,
      "outputs": [
        {
          "output_type": "error",
          "ename": "NameError",
          "evalue": "name 'pd' is not defined",
          "traceback": [
            "\u001b[0;31m---------------------------------------------------------------------------\u001b[0m",
            "\u001b[0;31mNameError\u001b[0m                                 Traceback (most recent call last)",
            "\u001b[0;32m<ipython-input-1-3d508c8f9d2b>\u001b[0m in \u001b[0;36m<cell line: 0>\u001b[0;34m()\u001b[0m\n\u001b[0;32m----> 1\u001b[0;31m \u001b[0maccount_dim_df\u001b[0m \u001b[0;34m=\u001b[0m \u001b[0mpd\u001b[0m\u001b[0;34m.\u001b[0m\u001b[0mread_csv\u001b[0m\u001b[0;34m(\u001b[0m\u001b[0;34m\"https://github.com/austinkirwin/public-projects/blob/main/Python_projects/Synchrony_Datathon_2025/account_dim_20250325.csv\"\u001b[0m\u001b[0;34m)\u001b[0m\u001b[0;34m\u001b[0m\u001b[0;34m\u001b[0m\u001b[0m\n\u001b[0m\u001b[1;32m      2\u001b[0m \u001b[0mfraud_claim_case_df\u001b[0m \u001b[0;34m=\u001b[0m \u001b[0mpd\u001b[0m\u001b[0;34m.\u001b[0m\u001b[0mread_csv\u001b[0m\u001b[0;34m(\u001b[0m\u001b[0;34m\"https://github.com/austinkirwin/public-projects/blob/main/Python_projects/Synchrony_Datathon_2025/fraud_claim_case_20250325.csv\"\u001b[0m\u001b[0;34m)\u001b[0m\u001b[0;34m\u001b[0m\u001b[0;34m\u001b[0m\u001b[0m\n\u001b[1;32m      3\u001b[0m \u001b[0mfraud_claim_train_df\u001b[0m \u001b[0;34m=\u001b[0m \u001b[0mpd\u001b[0m\u001b[0;34m.\u001b[0m\u001b[0mread_csv\u001b[0m\u001b[0;34m(\u001b[0m\u001b[0;34m\"https://github.com/austinkirwin/public-projects/blob/main/Python_projects/Synchrony_Datathon_2025/fraud_claim_tran_20250325.csv\"\u001b[0m\u001b[0;34m)\u001b[0m\u001b[0;34m\u001b[0m\u001b[0;34m\u001b[0m\u001b[0m\n\u001b[1;32m      4\u001b[0m \u001b[0mrams_batch_cur_df\u001b[0m \u001b[0;34m=\u001b[0m \u001b[0mpd\u001b[0m\u001b[0;34m.\u001b[0m\u001b[0mread_csv\u001b[0m\u001b[0;34m(\u001b[0m\u001b[0;34m\"https://github.com/austinkirwin/public-projects/blob/main/Python_projects/Synchrony_Datathon_2025/rams_batch_cur_20250325.csv\"\u001b[0m\u001b[0;34m)\u001b[0m\u001b[0;34m\u001b[0m\u001b[0;34m\u001b[0m\u001b[0m\n\u001b[1;32m      5\u001b[0m \u001b[0msyf_id_df\u001b[0m \u001b[0;34m=\u001b[0m \u001b[0mpd\u001b[0m\u001b[0;34m.\u001b[0m\u001b[0mread_csv\u001b[0m\u001b[0;34m(\u001b[0m\u001b[0;34m\"https://github.com/austinkirwin/public-projects/blob/main/Python_projects/Synchrony_Datathon_2025/rams_batch_cur_20250325.csv\"\u001b[0m\u001b[0;34m)\u001b[0m\u001b[0;34m\u001b[0m\u001b[0;34m\u001b[0m\u001b[0m\n",
            "\u001b[0;31mNameError\u001b[0m: name 'pd' is not defined"
          ]
        }
      ]
    },
    {
      "cell_type": "code",
      "source": [
        "from google.colab import files\n",
        "\n",
        "uploaded = files.upload()\n",
        "\n",
        "for fn in uploaded.keys():\n",
        "  statement_df = pd.read_csv(fn)\n",
        "  transaction_fact_df = pd.read_csv(fn)\n",
        "  wrld_stor_tran_fact_df = pd.read_csv(fn)"
      ],
      "metadata": {
        "id": "f7T4N-YYAvJw"
      },
      "execution_count": null,
      "outputs": []
    },
    {
      "cell_type": "markdown",
      "source": [
        "## Historical Spending Patterns"
      ],
      "metadata": {
        "id": "Qe4_ra9L-HQu"
      }
    }
  ]
}