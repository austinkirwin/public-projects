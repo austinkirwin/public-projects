{
  "nbformat": 4,
  "nbformat_minor": 0,
  "metadata": {
    "colab": {
      "provenance": [],
      "authorship_tag": "ABX9TyMQry4gwN6aFeFY1MfkNj7F",
      "include_colab_link": true
    },
    "kernelspec": {
      "name": "python3",
      "display_name": "Python 3"
    },
    "language_info": {
      "name": "python"
    }
  },
  "cells": [
    {
      "cell_type": "markdown",
      "metadata": {
        "id": "view-in-github",
        "colab_type": "text"
      },
      "source": [
        "<a href=\"https://colab.research.google.com/github/austinkirwin/public-projects/blob/main/Python_projects/LinRegModelFromScratch/Building_a_Linear_Regression_Model.ipynb\" target=\"_parent\"><img src=\"https://colab.research.google.com/assets/colab-badge.svg\" alt=\"Open In Colab\"/></a>"
      ]
    },
    {
      "cell_type": "markdown",
      "source": [
        "# Building a Linear Regression Model\n",
        "\n",
        "In this notebook, I will be building and optimizing a Linear Regression Model in the hopes that it can accurately predict Mileage from various other variables--although the actual data is irrelevant, the point of this notebook is purely to showcase and improve my skills with building a model."
      ],
      "metadata": {
        "id": "e6aQ1FVlxlD_"
      }
    },
    {
      "cell_type": "code",
      "source": [],
      "metadata": {
        "id": "6qvIWX4S3UMB"
      },
      "execution_count": null,
      "outputs": []
    }
  ]
}