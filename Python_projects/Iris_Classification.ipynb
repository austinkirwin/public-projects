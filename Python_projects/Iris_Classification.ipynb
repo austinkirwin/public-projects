{
  "nbformat": 4,
  "nbformat_minor": 0,
  "metadata": {
    "colab": {
      "provenance": [],
      "authorship_tag": "ABX9TyNIAStnkE2hQQnUrEG4bwLI",
      "include_colab_link": true
    },
    "kernelspec": {
      "name": "python3",
      "display_name": "Python 3"
    },
    "language_info": {
      "name": "python"
    }
  },
  "cells": [
    {
      "cell_type": "markdown",
      "metadata": {
        "id": "view-in-github",
        "colab_type": "text"
      },
      "source": [
        "<a href=\"https://colab.research.google.com/github/austinkirwin/public-projects/blob/main/Python_projects/Iris_Classification.ipynb\" target=\"_parent\"><img src=\"https://colab.research.google.com/assets/colab-badge.svg\" alt=\"Open In Colab\"/></a>"
      ]
    },
    {
      "cell_type": "markdown",
      "source": [
        "# Iris Classification Analysis Project\n",
        "\n",
        "## Background\n",
        "\n",
        "Using the Iris dataset I will conduct some basic analyses to determine differences between the species, including linear regression and low-level neural networks. Additionally, I will see if there are any links within each species between Sepal and Petal values."
      ],
      "metadata": {
        "id": "064mne3DnjIV"
      }
    },
    {
      "cell_type": "markdown",
      "source": [
        "## Imports"
      ],
      "metadata": {
        "id": "Wc48s3M_q9Y7"
      }
    },
    {
      "cell_type": "code",
      "source": [
        "# Imports\n",
        "\n",
        "import pandas as pd\n",
        "import matplotlib.pyplot as plt\n",
        "import seaborn as sns\n",
        "import numpy as np\n",
        "from sklearn.model_selection import train_test_split\n",
        "import statsmodels.formula.api as smf"
      ],
      "metadata": {
        "id": "bpiiqfeVqcoN"
      },
      "execution_count": 1,
      "outputs": []
    },
    {
      "cell_type": "markdown",
      "source": [
        "## Reading in the data set\n",
        "\n",
        "**Note:** I am uploading the csv file from my local machine, it can be found [here](https://www.kaggle.com/datasets/uciml/iris) on Kaggle with variables Sepal length and width, Petal length and width, and the four different species."
      ],
      "metadata": {
        "id": "i0tO4F061d0K"
      }
    },
    {
      "cell_type": "code",
      "source": [
        "# Uploading the data set\n",
        "from google.colab import files\n",
        "\n",
        "uploaded = files.upload()\n",
        "\n",
        "for fn in uploaded.keys():\n",
        "  iris_data = pd.read_csv(fn)"
      ],
      "metadata": {
        "id": "dLIVs6q6rz3v"
      },
      "execution_count": null,
      "outputs": []
    }
  ]
}