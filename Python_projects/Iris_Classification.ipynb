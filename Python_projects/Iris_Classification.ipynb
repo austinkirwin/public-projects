{
  "nbformat": 4,
  "nbformat_minor": 0,
  "metadata": {
    "colab": {
      "provenance": [],
      "authorship_tag": "ABX9TyMEBtlndFhBmGY4ssIRWhZx",
      "include_colab_link": true
    },
    "kernelspec": {
      "name": "python3",
      "display_name": "Python 3"
    },
    "language_info": {
      "name": "python"
    }
  },
  "cells": [
    {
      "cell_type": "markdown",
      "metadata": {
        "id": "view-in-github",
        "colab_type": "text"
      },
      "source": [
        "<a href=\"https://colab.research.google.com/github/austinkirwin/public-projects/blob/main/Python_projects/Iris_Classification.ipynb\" target=\"_parent\"><img src=\"https://colab.research.google.com/assets/colab-badge.svg\" alt=\"Open In Colab\"/></a>"
      ]
    },
    {
      "cell_type": "markdown",
      "source": [
        "# Iris Classification Analysis Project\n",
        "\n",
        "## Background\n",
        "\n",
        "Using the Iris dataset I will conduct some basic analyses to determine differences between the species. Additionally, I will see if there are any links"
      ],
      "metadata": {
        "id": "064mne3DnjIV"
      }
    },
    {
      "cell_type": "markdown",
      "source": [
        "## Imports"
      ],
      "metadata": {
        "id": "Wc48s3M_q9Y7"
      }
    },
    {
      "cell_type": "code",
      "source": [
        "# Imports\n",
        "\n",
        "import pandas as pd"
      ],
      "metadata": {
        "id": "bpiiqfeVqcoN"
      },
      "execution_count": 3,
      "outputs": []
    },
    {
      "cell_type": "code",
      "source": [],
      "metadata": {
        "id": "dLIVs6q6rz3v"
      },
      "execution_count": null,
      "outputs": []
    }
  ]
}